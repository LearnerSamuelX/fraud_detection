{
  "cells": [
    {
      "cell_type": "code",
      "execution_count": 410,
      "metadata": {},
      "outputs": [
        {
          "name": "stdout",
          "output_type": "stream",
          "text": [
            "Requirement already satisfied: imbalanced-learn in ./venv/lib/python3.10/site-packages (0.12.0)\n",
            "Requirement already satisfied: scipy>=1.5.0 in ./venv/lib/python3.10/site-packages (from imbalanced-learn) (1.12.0)\n",
            "Requirement already satisfied: numpy>=1.17.3 in ./venv/lib/python3.10/site-packages (from imbalanced-learn) (1.26.4)\n",
            "Requirement already satisfied: threadpoolctl>=2.0.0 in ./venv/lib/python3.10/site-packages (from imbalanced-learn) (3.4.0)\n",
            "Requirement already satisfied: joblib>=1.1.1 in ./venv/lib/python3.10/site-packages (from imbalanced-learn) (1.3.2)\n",
            "Requirement already satisfied: scikit-learn>=1.0.2 in ./venv/lib/python3.10/site-packages (from imbalanced-learn) (1.4.1.post1)\n",
            "\n",
            "\u001b[1m[\u001b[0m\u001b[34;49mnotice\u001b[0m\u001b[1;39;49m]\u001b[0m\u001b[39;49m A new release of pip available: \u001b[0m\u001b[31;49m22.2.2\u001b[0m\u001b[39;49m -> \u001b[0m\u001b[32;49m24.0\u001b[0m\n",
            "\u001b[1m[\u001b[0m\u001b[34;49mnotice\u001b[0m\u001b[1;39;49m]\u001b[0m\u001b[39;49m To update, run: \u001b[0m\u001b[32;49mpip install --upgrade pip\u001b[0m\n"
          ]
        }
      ],
      "source": [
        "!pip install imbalanced-learn"
      ]
    },
    {
      "cell_type": "code",
      "execution_count": 411,
      "metadata": {
        "id": "l9h2pE6egNnT"
      },
      "outputs": [],
      "source": [
        "import numpy as np\n",
        "import pandas as pd\n",
        "import seaborn as sns\n",
        "import plotly.express as px\n",
        "from matplotlib import pyplot as plt\n",
        "from sklearn.model_selection import cross_val_score\n",
        "\n",
        "from sklearn import metrics\n",
        "from collections import Counter\n",
        "\n",
        "sns.set(rc = {'figure.figsize':(15,8)}, style='white')\n",
        "\n",
        "pd.set_option('display.max_columns', None)\n",
        "# pd.set_option('display.max_rows', None)\n"
      ]
    },
    {
      "cell_type": "code",
      "execution_count": 412,
      "metadata": {
        "id": "MDPG0ORlg8yO"
      },
      "outputs": [],
      "source": [
        "train_url='./fraudTrain.csv'\n",
        "test_url='./fraudTest.csv'\n",
        "\n",
        "train_df=pd.read_csv(train_url, low_memory=False, index_col=0) #ignore sequencer\n",
        "test_df=pd.read_csv(test_url, low_memory=False, index_col=0) #ignore sequencer"
      ]
    },
    {
      "cell_type": "code",
      "execution_count": 413,
      "metadata": {
        "colab": {
          "base_uri": "https://localhost:8080/"
        },
        "id": "lfER-CMTg143",
        "outputId": "5d93704d-ea8d-45c8-a172-6084f3a74371"
      },
      "outputs": [
        {
          "name": "stdout",
          "output_type": "stream",
          "text": [
            "<class 'pandas.core.frame.DataFrame'>\n",
            "Index: 1296675 entries, 0 to 1296674\n",
            "Data columns (total 22 columns):\n",
            " #   Column                 Non-Null Count    Dtype  \n",
            "---  ------                 --------------    -----  \n",
            " 0   trans_date_trans_time  1296675 non-null  object \n",
            " 1   cc_num                 1296675 non-null  int64  \n",
            " 2   merchant               1296675 non-null  object \n",
            " 3   category               1296675 non-null  object \n",
            " 4   amt                    1296675 non-null  float64\n",
            " 5   first                  1296675 non-null  object \n",
            " 6   last                   1296675 non-null  object \n",
            " 7   gender                 1296675 non-null  object \n",
            " 8   street                 1296675 non-null  object \n",
            " 9   city                   1296675 non-null  object \n",
            " 10  state                  1296675 non-null  object \n",
            " 11  zip                    1296675 non-null  int64  \n",
            " 12  lat                    1296675 non-null  float64\n",
            " 13  long                   1296675 non-null  float64\n",
            " 14  city_pop               1296675 non-null  int64  \n",
            " 15  job                    1296675 non-null  object \n",
            " 16  dob                    1296675 non-null  object \n",
            " 17  trans_num              1296675 non-null  object \n",
            " 18  unix_time              1296675 non-null  int64  \n",
            " 19  merch_lat              1296675 non-null  float64\n",
            " 20  merch_long             1296675 non-null  float64\n",
            " 21  is_fraud               1296675 non-null  int64  \n",
            "dtypes: float64(5), int64(5), object(12)\n",
            "memory usage: 227.5+ MB\n"
          ]
        }
      ],
      "source": [
        "train_df.info()"
      ]
    },
    {
      "cell_type": "code",
      "execution_count": 414,
      "metadata": {
        "colab": {
          "base_uri": "https://localhost:8080/"
        },
        "id": "owRxTeTlg3me",
        "outputId": "7642170f-808c-4af7-b1d5-3e138db890d9"
      },
      "outputs": [
        {
          "name": "stdout",
          "output_type": "stream",
          "text": [
            "<class 'pandas.core.frame.DataFrame'>\n",
            "Index: 555719 entries, 0 to 555718\n",
            "Data columns (total 22 columns):\n",
            " #   Column                 Non-Null Count   Dtype  \n",
            "---  ------                 --------------   -----  \n",
            " 0   trans_date_trans_time  555719 non-null  object \n",
            " 1   cc_num                 555719 non-null  int64  \n",
            " 2   merchant               555719 non-null  object \n",
            " 3   category               555719 non-null  object \n",
            " 4   amt                    555719 non-null  float64\n",
            " 5   first                  555719 non-null  object \n",
            " 6   last                   555719 non-null  object \n",
            " 7   gender                 555719 non-null  object \n",
            " 8   street                 555719 non-null  object \n",
            " 9   city                   555719 non-null  object \n",
            " 10  state                  555719 non-null  object \n",
            " 11  zip                    555719 non-null  int64  \n",
            " 12  lat                    555719 non-null  float64\n",
            " 13  long                   555719 non-null  float64\n",
            " 14  city_pop               555719 non-null  int64  \n",
            " 15  job                    555719 non-null  object \n",
            " 16  dob                    555719 non-null  object \n",
            " 17  trans_num              555719 non-null  object \n",
            " 18  unix_time              555719 non-null  int64  \n",
            " 19  merch_lat              555719 non-null  float64\n",
            " 20  merch_long             555719 non-null  float64\n",
            " 21  is_fraud               555719 non-null  int64  \n",
            "dtypes: float64(5), int64(5), object(12)\n",
            "memory usage: 97.5+ MB\n"
          ]
        }
      ],
      "source": [
        "test_df.info()"
      ]
    },
    {
      "cell_type": "markdown",
      "metadata": {
        "id": "TOJCSyf3rBqi"
      },
      "source": [
        "**Data Dictionary:**\n",
        "\n",
        "| No. | Field                  | Description                          |\n",
        "|-----|------------------------|--------------------------------------|\n",
        "| 1   | trans_date_trans_time  | Transaction time stamp               |\n",
        "| 2   | cc_num                 | Credit card number                   |\n",
        "| 3   | merchant               | Merchant name                        |\n",
        "| 4   | category               | Transaction category                 |\n",
        "| 5   | amt                    | Transaction amount                   |\n",
        "| 6   | first                  | First name of card holder            |\n",
        "| 7   | last                   | Last name of card holder             |\n",
        "| 8   | gender                 | Sex of card holder                   |\n",
        "| 9   | street                 | Transaction address                  |\n",
        "| 10  | city                   | Transaction city                     |\n",
        "| 11  | state                  | Transaction state                    |\n",
        "| 12  | zip                    | Transaction zipcode                  |\n",
        "| 13  | lat                    | Transaction latitude                 |\n",
        "| 14  | long                   | Transaction longitude                |\n",
        "| 15  | city_pop               | Population of the city               |\n",
        "| 16  | job                    | Job of the card holder               |\n",
        "| 17  | dob                    | Date of birth of card holder         |\n",
        "| 18  | trans_num              | Transaction number                   |\n",
        "| 19  | unix_time              | Time in unix format                  |\n",
        "| 20  | merch_lat              | Latitude of the merchant             |\n",
        "| 21  | merch_long             | Longitude of the merchant            |\n",
        "| 22  | is_fraud               | Nature of transaction (fraud or not fraud) |\n",
        "\n"
      ]
    },
    {
      "cell_type": "code",
      "execution_count": 415,
      "metadata": {
        "colab": {
          "base_uri": "https://localhost:8080/",
          "height": 417
        },
        "id": "8c1bCt2pjaU0",
        "outputId": "94f48630-9042-4e00-8d33-4483b1e97f69"
      },
      "outputs": [
        {
          "data": {
            "application/vnd.plotly.v1+json": {
              "config": {
                "plotlyServerURL": "https://plot.ly"
              },
              "data": [
                {
                  "domain": {
                    "x": [
                      0,
                      1
                    ],
                    "y": [
                      0,
                      1
                    ]
                  },
                  "hovertemplate": "label=%{label}<br>value=%{value}<extra></extra>",
                  "labels": [
                    "Genuine",
                    "Fraud"
                  ],
                  "legendgroup": "",
                  "name": "",
                  "showlegend": true,
                  "type": "pie",
                  "values": [
                    1289169,
                    7506
                  ]
                }
              ],
              "layout": {
                "height": 400,
                "legend": {
                  "tracegroupgap": 0
                },
                "piecolorway": [
                  "skyblue",
                  "black"
                ],
                "template": {
                  "data": {
                    "bar": [
                      {
                        "error_x": {
                          "color": "#2a3f5f"
                        },
                        "error_y": {
                          "color": "#2a3f5f"
                        },
                        "marker": {
                          "line": {
                            "color": "#E5ECF6",
                            "width": 0.5
                          },
                          "pattern": {
                            "fillmode": "overlay",
                            "size": 10,
                            "solidity": 0.2
                          }
                        },
                        "type": "bar"
                      }
                    ],
                    "barpolar": [
                      {
                        "marker": {
                          "line": {
                            "color": "#E5ECF6",
                            "width": 0.5
                          },
                          "pattern": {
                            "fillmode": "overlay",
                            "size": 10,
                            "solidity": 0.2
                          }
                        },
                        "type": "barpolar"
                      }
                    ],
                    "carpet": [
                      {
                        "aaxis": {
                          "endlinecolor": "#2a3f5f",
                          "gridcolor": "white",
                          "linecolor": "white",
                          "minorgridcolor": "white",
                          "startlinecolor": "#2a3f5f"
                        },
                        "baxis": {
                          "endlinecolor": "#2a3f5f",
                          "gridcolor": "white",
                          "linecolor": "white",
                          "minorgridcolor": "white",
                          "startlinecolor": "#2a3f5f"
                        },
                        "type": "carpet"
                      }
                    ],
                    "choropleth": [
                      {
                        "colorbar": {
                          "outlinewidth": 0,
                          "ticks": ""
                        },
                        "type": "choropleth"
                      }
                    ],
                    "contour": [
                      {
                        "colorbar": {
                          "outlinewidth": 0,
                          "ticks": ""
                        },
                        "colorscale": [
                          [
                            0,
                            "#0d0887"
                          ],
                          [
                            0.1111111111111111,
                            "#46039f"
                          ],
                          [
                            0.2222222222222222,
                            "#7201a8"
                          ],
                          [
                            0.3333333333333333,
                            "#9c179e"
                          ],
                          [
                            0.4444444444444444,
                            "#bd3786"
                          ],
                          [
                            0.5555555555555556,
                            "#d8576b"
                          ],
                          [
                            0.6666666666666666,
                            "#ed7953"
                          ],
                          [
                            0.7777777777777778,
                            "#fb9f3a"
                          ],
                          [
                            0.8888888888888888,
                            "#fdca26"
                          ],
                          [
                            1,
                            "#f0f921"
                          ]
                        ],
                        "type": "contour"
                      }
                    ],
                    "contourcarpet": [
                      {
                        "colorbar": {
                          "outlinewidth": 0,
                          "ticks": ""
                        },
                        "type": "contourcarpet"
                      }
                    ],
                    "heatmap": [
                      {
                        "colorbar": {
                          "outlinewidth": 0,
                          "ticks": ""
                        },
                        "colorscale": [
                          [
                            0,
                            "#0d0887"
                          ],
                          [
                            0.1111111111111111,
                            "#46039f"
                          ],
                          [
                            0.2222222222222222,
                            "#7201a8"
                          ],
                          [
                            0.3333333333333333,
                            "#9c179e"
                          ],
                          [
                            0.4444444444444444,
                            "#bd3786"
                          ],
                          [
                            0.5555555555555556,
                            "#d8576b"
                          ],
                          [
                            0.6666666666666666,
                            "#ed7953"
                          ],
                          [
                            0.7777777777777778,
                            "#fb9f3a"
                          ],
                          [
                            0.8888888888888888,
                            "#fdca26"
                          ],
                          [
                            1,
                            "#f0f921"
                          ]
                        ],
                        "type": "heatmap"
                      }
                    ],
                    "heatmapgl": [
                      {
                        "colorbar": {
                          "outlinewidth": 0,
                          "ticks": ""
                        },
                        "colorscale": [
                          [
                            0,
                            "#0d0887"
                          ],
                          [
                            0.1111111111111111,
                            "#46039f"
                          ],
                          [
                            0.2222222222222222,
                            "#7201a8"
                          ],
                          [
                            0.3333333333333333,
                            "#9c179e"
                          ],
                          [
                            0.4444444444444444,
                            "#bd3786"
                          ],
                          [
                            0.5555555555555556,
                            "#d8576b"
                          ],
                          [
                            0.6666666666666666,
                            "#ed7953"
                          ],
                          [
                            0.7777777777777778,
                            "#fb9f3a"
                          ],
                          [
                            0.8888888888888888,
                            "#fdca26"
                          ],
                          [
                            1,
                            "#f0f921"
                          ]
                        ],
                        "type": "heatmapgl"
                      }
                    ],
                    "histogram": [
                      {
                        "marker": {
                          "pattern": {
                            "fillmode": "overlay",
                            "size": 10,
                            "solidity": 0.2
                          }
                        },
                        "type": "histogram"
                      }
                    ],
                    "histogram2d": [
                      {
                        "colorbar": {
                          "outlinewidth": 0,
                          "ticks": ""
                        },
                        "colorscale": [
                          [
                            0,
                            "#0d0887"
                          ],
                          [
                            0.1111111111111111,
                            "#46039f"
                          ],
                          [
                            0.2222222222222222,
                            "#7201a8"
                          ],
                          [
                            0.3333333333333333,
                            "#9c179e"
                          ],
                          [
                            0.4444444444444444,
                            "#bd3786"
                          ],
                          [
                            0.5555555555555556,
                            "#d8576b"
                          ],
                          [
                            0.6666666666666666,
                            "#ed7953"
                          ],
                          [
                            0.7777777777777778,
                            "#fb9f3a"
                          ],
                          [
                            0.8888888888888888,
                            "#fdca26"
                          ],
                          [
                            1,
                            "#f0f921"
                          ]
                        ],
                        "type": "histogram2d"
                      }
                    ],
                    "histogram2dcontour": [
                      {
                        "colorbar": {
                          "outlinewidth": 0,
                          "ticks": ""
                        },
                        "colorscale": [
                          [
                            0,
                            "#0d0887"
                          ],
                          [
                            0.1111111111111111,
                            "#46039f"
                          ],
                          [
                            0.2222222222222222,
                            "#7201a8"
                          ],
                          [
                            0.3333333333333333,
                            "#9c179e"
                          ],
                          [
                            0.4444444444444444,
                            "#bd3786"
                          ],
                          [
                            0.5555555555555556,
                            "#d8576b"
                          ],
                          [
                            0.6666666666666666,
                            "#ed7953"
                          ],
                          [
                            0.7777777777777778,
                            "#fb9f3a"
                          ],
                          [
                            0.8888888888888888,
                            "#fdca26"
                          ],
                          [
                            1,
                            "#f0f921"
                          ]
                        ],
                        "type": "histogram2dcontour"
                      }
                    ],
                    "mesh3d": [
                      {
                        "colorbar": {
                          "outlinewidth": 0,
                          "ticks": ""
                        },
                        "type": "mesh3d"
                      }
                    ],
                    "parcoords": [
                      {
                        "line": {
                          "colorbar": {
                            "outlinewidth": 0,
                            "ticks": ""
                          }
                        },
                        "type": "parcoords"
                      }
                    ],
                    "pie": [
                      {
                        "automargin": true,
                        "type": "pie"
                      }
                    ],
                    "scatter": [
                      {
                        "fillpattern": {
                          "fillmode": "overlay",
                          "size": 10,
                          "solidity": 0.2
                        },
                        "type": "scatter"
                      }
                    ],
                    "scatter3d": [
                      {
                        "line": {
                          "colorbar": {
                            "outlinewidth": 0,
                            "ticks": ""
                          }
                        },
                        "marker": {
                          "colorbar": {
                            "outlinewidth": 0,
                            "ticks": ""
                          }
                        },
                        "type": "scatter3d"
                      }
                    ],
                    "scattercarpet": [
                      {
                        "marker": {
                          "colorbar": {
                            "outlinewidth": 0,
                            "ticks": ""
                          }
                        },
                        "type": "scattercarpet"
                      }
                    ],
                    "scattergeo": [
                      {
                        "marker": {
                          "colorbar": {
                            "outlinewidth": 0,
                            "ticks": ""
                          }
                        },
                        "type": "scattergeo"
                      }
                    ],
                    "scattergl": [
                      {
                        "marker": {
                          "colorbar": {
                            "outlinewidth": 0,
                            "ticks": ""
                          }
                        },
                        "type": "scattergl"
                      }
                    ],
                    "scattermapbox": [
                      {
                        "marker": {
                          "colorbar": {
                            "outlinewidth": 0,
                            "ticks": ""
                          }
                        },
                        "type": "scattermapbox"
                      }
                    ],
                    "scatterpolar": [
                      {
                        "marker": {
                          "colorbar": {
                            "outlinewidth": 0,
                            "ticks": ""
                          }
                        },
                        "type": "scatterpolar"
                      }
                    ],
                    "scatterpolargl": [
                      {
                        "marker": {
                          "colorbar": {
                            "outlinewidth": 0,
                            "ticks": ""
                          }
                        },
                        "type": "scatterpolargl"
                      }
                    ],
                    "scatterternary": [
                      {
                        "marker": {
                          "colorbar": {
                            "outlinewidth": 0,
                            "ticks": ""
                          }
                        },
                        "type": "scatterternary"
                      }
                    ],
                    "surface": [
                      {
                        "colorbar": {
                          "outlinewidth": 0,
                          "ticks": ""
                        },
                        "colorscale": [
                          [
                            0,
                            "#0d0887"
                          ],
                          [
                            0.1111111111111111,
                            "#46039f"
                          ],
                          [
                            0.2222222222222222,
                            "#7201a8"
                          ],
                          [
                            0.3333333333333333,
                            "#9c179e"
                          ],
                          [
                            0.4444444444444444,
                            "#bd3786"
                          ],
                          [
                            0.5555555555555556,
                            "#d8576b"
                          ],
                          [
                            0.6666666666666666,
                            "#ed7953"
                          ],
                          [
                            0.7777777777777778,
                            "#fb9f3a"
                          ],
                          [
                            0.8888888888888888,
                            "#fdca26"
                          ],
                          [
                            1,
                            "#f0f921"
                          ]
                        ],
                        "type": "surface"
                      }
                    ],
                    "table": [
                      {
                        "cells": {
                          "fill": {
                            "color": "#EBF0F8"
                          },
                          "line": {
                            "color": "white"
                          }
                        },
                        "header": {
                          "fill": {
                            "color": "#C8D4E3"
                          },
                          "line": {
                            "color": "white"
                          }
                        },
                        "type": "table"
                      }
                    ]
                  },
                  "layout": {
                    "annotationdefaults": {
                      "arrowcolor": "#2a3f5f",
                      "arrowhead": 0,
                      "arrowwidth": 1
                    },
                    "autotypenumbers": "strict",
                    "coloraxis": {
                      "colorbar": {
                        "outlinewidth": 0,
                        "ticks": ""
                      }
                    },
                    "colorscale": {
                      "diverging": [
                        [
                          0,
                          "#8e0152"
                        ],
                        [
                          0.1,
                          "#c51b7d"
                        ],
                        [
                          0.2,
                          "#de77ae"
                        ],
                        [
                          0.3,
                          "#f1b6da"
                        ],
                        [
                          0.4,
                          "#fde0ef"
                        ],
                        [
                          0.5,
                          "#f7f7f7"
                        ],
                        [
                          0.6,
                          "#e6f5d0"
                        ],
                        [
                          0.7,
                          "#b8e186"
                        ],
                        [
                          0.8,
                          "#7fbc41"
                        ],
                        [
                          0.9,
                          "#4d9221"
                        ],
                        [
                          1,
                          "#276419"
                        ]
                      ],
                      "sequential": [
                        [
                          0,
                          "#0d0887"
                        ],
                        [
                          0.1111111111111111,
                          "#46039f"
                        ],
                        [
                          0.2222222222222222,
                          "#7201a8"
                        ],
                        [
                          0.3333333333333333,
                          "#9c179e"
                        ],
                        [
                          0.4444444444444444,
                          "#bd3786"
                        ],
                        [
                          0.5555555555555556,
                          "#d8576b"
                        ],
                        [
                          0.6666666666666666,
                          "#ed7953"
                        ],
                        [
                          0.7777777777777778,
                          "#fb9f3a"
                        ],
                        [
                          0.8888888888888888,
                          "#fdca26"
                        ],
                        [
                          1,
                          "#f0f921"
                        ]
                      ],
                      "sequentialminus": [
                        [
                          0,
                          "#0d0887"
                        ],
                        [
                          0.1111111111111111,
                          "#46039f"
                        ],
                        [
                          0.2222222222222222,
                          "#7201a8"
                        ],
                        [
                          0.3333333333333333,
                          "#9c179e"
                        ],
                        [
                          0.4444444444444444,
                          "#bd3786"
                        ],
                        [
                          0.5555555555555556,
                          "#d8576b"
                        ],
                        [
                          0.6666666666666666,
                          "#ed7953"
                        ],
                        [
                          0.7777777777777778,
                          "#fb9f3a"
                        ],
                        [
                          0.8888888888888888,
                          "#fdca26"
                        ],
                        [
                          1,
                          "#f0f921"
                        ]
                      ]
                    },
                    "colorway": [
                      "#636efa",
                      "#EF553B",
                      "#00cc96",
                      "#ab63fa",
                      "#FFA15A",
                      "#19d3f3",
                      "#FF6692",
                      "#B6E880",
                      "#FF97FF",
                      "#FECB52"
                    ],
                    "font": {
                      "color": "#2a3f5f"
                    },
                    "geo": {
                      "bgcolor": "white",
                      "lakecolor": "white",
                      "landcolor": "#E5ECF6",
                      "showlakes": true,
                      "showland": true,
                      "subunitcolor": "white"
                    },
                    "hoverlabel": {
                      "align": "left"
                    },
                    "hovermode": "closest",
                    "mapbox": {
                      "style": "light"
                    },
                    "paper_bgcolor": "white",
                    "plot_bgcolor": "#E5ECF6",
                    "polar": {
                      "angularaxis": {
                        "gridcolor": "white",
                        "linecolor": "white",
                        "ticks": ""
                      },
                      "bgcolor": "#E5ECF6",
                      "radialaxis": {
                        "gridcolor": "white",
                        "linecolor": "white",
                        "ticks": ""
                      }
                    },
                    "scene": {
                      "xaxis": {
                        "backgroundcolor": "#E5ECF6",
                        "gridcolor": "white",
                        "gridwidth": 2,
                        "linecolor": "white",
                        "showbackground": true,
                        "ticks": "",
                        "zerolinecolor": "white"
                      },
                      "yaxis": {
                        "backgroundcolor": "#E5ECF6",
                        "gridcolor": "white",
                        "gridwidth": 2,
                        "linecolor": "white",
                        "showbackground": true,
                        "ticks": "",
                        "zerolinecolor": "white"
                      },
                      "zaxis": {
                        "backgroundcolor": "#E5ECF6",
                        "gridcolor": "white",
                        "gridwidth": 2,
                        "linecolor": "white",
                        "showbackground": true,
                        "ticks": "",
                        "zerolinecolor": "white"
                      }
                    },
                    "shapedefaults": {
                      "line": {
                        "color": "#2a3f5f"
                      }
                    },
                    "ternary": {
                      "aaxis": {
                        "gridcolor": "white",
                        "linecolor": "white",
                        "ticks": ""
                      },
                      "baxis": {
                        "gridcolor": "white",
                        "linecolor": "white",
                        "ticks": ""
                      },
                      "bgcolor": "#E5ECF6",
                      "caxis": {
                        "gridcolor": "white",
                        "linecolor": "white",
                        "ticks": ""
                      }
                    },
                    "title": {
                      "x": 0.05
                    },
                    "xaxis": {
                      "automargin": true,
                      "gridcolor": "white",
                      "linecolor": "white",
                      "ticks": "",
                      "title": {
                        "standoff": 15
                      },
                      "zerolinecolor": "white",
                      "zerolinewidth": 2
                    },
                    "yaxis": {
                      "automargin": true,
                      "gridcolor": "white",
                      "linecolor": "white",
                      "ticks": "",
                      "title": {
                        "standoff": 15
                      },
                      "zerolinecolor": "white",
                      "zerolinewidth": 2
                    }
                  }
                },
                "title": {
                  "text": "Fraud vs Genuine transactions"
                },
                "width": 700
              }
            }
          },
          "metadata": {},
          "output_type": "display_data"
        }
      ],
      "source": [
        "labels=[\"Genuine\", \"Fraud\"]\n",
        "\n",
        "fraud_or_not = train_df[\"is_fraud\"].value_counts().tolist()\n",
        "values = [fraud_or_not[0], fraud_or_not[1]]\n",
        "\n",
        "fig = px.pie(values=train_df['is_fraud'].value_counts(), names=labels , width=700, height=400, color_discrete_sequence=[\"skyblue\", \"black\"]\n",
        "             ,title=\"Fraud vs Genuine transactions\")\n",
        "fig.show()"
      ]
    },
    {
      "cell_type": "code",
      "execution_count": 416,
      "metadata": {
        "colab": {
          "base_uri": "https://localhost:8080/",
          "height": 704
        },
        "id": "HoSWkY62lVRt",
        "outputId": "9a544033-5f25-44b7-be10-9c73139c2c48"
      },
      "outputs": [
        {
          "data": {
            "image/png": "[encoded data removed]",
            "text/plain": [
              "<Figure size 1500x800 with 1 Axes>"
            ]
          },
          "metadata": {},
          "output_type": "display_data"
        }
      ],
      "source": [
        "#amount vs fraud\n",
        "data_subset = train_df[train_df['amt'] <= 1300]\n",
        "palette = {0: 'skyblue', 1: 'black'}\n",
        "ax = sns.histplot(data=data_subset, x='amt', hue='is_fraud', stat='percent', multiple='dodge', common_norm=False, bins=25, palette=palette)\n",
        "ax.set_ylabel('Percentage in Each Class')\n",
        "ax.set_xlabel('Transaction Amount in USD')\n",
        "plt.legend(title='Class', labels=['Genuine', 'Fraud'])\n",
        "plt.show()"
      ]
    },
    {
      "cell_type": "code",
      "execution_count": 417,
      "metadata": {
        "colab": {
          "base_uri": "https://localhost:8080/",
          "height": 800
        },
        "id": "rni4Zx81uicI",
        "outputId": "f89aac25-ee17-4cab-c3d8-5edb3d351f9f"
      },
      "outputs": [
        {
          "data": {
            "image/png": "[encoded data removed]",
            "text/plain": [
              "<Figure size 1500x800 with 1 Axes>"
            ]
          },
          "metadata": {},
          "output_type": "display_data"
        }
      ],
      "source": [
        "palette = {0: 'skyblue', 1: 'black'}\n",
        "ax = sns.countplot(x='category', hue='is_fraud', data=train_df, palette=palette)\n",
        "plt.xticks(rotation=90)\n",
        "ax.set_ylabel('Count in Each Class')\n",
        "ax.set_xlabel('Transaction Category')\n",
        "plt.legend(title='Class', labels=['Genuine', 'Fraud'])\n",
        "plt.show()"
      ]
    },
    {
      "cell_type": "code",
      "execution_count": 418,
      "metadata": {
        "colab": {
          "base_uri": "https://localhost:8080/",
          "height": 677
        },
        "id": "882HQj5hxUbW",
        "outputId": "e27b08e0-5724-4c6d-ef0a-f76870b12f29"
      },
      "outputs": [
        {
          "name": "stdout",
          "output_type": "stream",
          "text": [
            "                          merchant  is_fraud  Transaction count\n",
            "0              fraud_Abbott-Rogahn         0               1841\n",
            "1              fraud_Abbott-Rogahn         1                  3\n",
            "2             fraud_Abbott-Steuber         0               1757\n",
            "3             fraud_Abbott-Steuber         1                  6\n",
            "4         fraud_Abernathy and Sons         0               1747\n",
            "...                            ...       ...                ...\n",
            "1367          fraud_Ziemann-Waters         1                  6\n",
            "1368  fraud_Zieme, Bode and Dooley         0               2552\n",
            "1369  fraud_Zieme, Bode and Dooley         1                  8\n",
            "1370              fraud_Zulauf LLC         0               1781\n",
            "1371              fraud_Zulauf LLC         1                  2\n",
            "\n",
            "[1372 rows x 3 columns]\n"
          ]
        },
        {
          "data": {
            "text/html": [
              "<div>\n",
              "<style scoped>\n",
              "    .dataframe tbody tr th:only-of-type {\n",
              "        vertical-align: middle;\n",
              "    }\n",
              "\n",
              "    .dataframe tbody tr th {\n",
              "        vertical-align: top;\n",
              "    }\n",
              "\n",
              "    .dataframe thead th {\n",
              "        text-align: right;\n",
              "    }\n",
              "</style>\n",
              "<table border=\"1\" class=\"dataframe\">\n",
              "  <thead>\n",
              "    <tr style=\"text-align: right;\">\n",
              "      <th></th>\n",
              "      <th>merchant</th>\n",
              "      <th>is_fraud</th>\n",
              "      <th>Transaction count</th>\n",
              "      <th>merchant_count</th>\n",
              "      <th>Transaction percentage</th>\n",
              "    </tr>\n",
              "  </thead>\n",
              "  <tbody>\n",
              "    <tr>\n",
              "      <th>672</th>\n",
              "      <td>fraud_Kozey-Boehm</td>\n",
              "      <td>1</td>\n",
              "      <td>48</td>\n",
              "      <td>1866</td>\n",
              "      <td>2.572347</td>\n",
              "    </tr>\n",
              "    <tr>\n",
              "      <th>489</th>\n",
              "      <td>fraud_Herman, Treutel and Dickens</td>\n",
              "      <td>1</td>\n",
              "      <td>33</td>\n",
              "      <td>1300</td>\n",
              "      <td>2.538462</td>\n",
              "    </tr>\n",
              "    <tr>\n",
              "      <th>606</th>\n",
              "      <td>fraud_Kerluke-Abshire</td>\n",
              "      <td>1</td>\n",
              "      <td>41</td>\n",
              "      <td>1838</td>\n",
              "      <td>2.230686</td>\n",
              "    </tr>\n",
              "    <tr>\n",
              "      <th>159</th>\n",
              "      <td>fraud_Brown PLC</td>\n",
              "      <td>1</td>\n",
              "      <td>26</td>\n",
              "      <td>1176</td>\n",
              "      <td>2.210884</td>\n",
              "    </tr>\n",
              "    <tr>\n",
              "      <th>400</th>\n",
              "      <td>fraud_Goyette Inc</td>\n",
              "      <td>1</td>\n",
              "      <td>42</td>\n",
              "      <td>1943</td>\n",
              "      <td>2.161606</td>\n",
              "    </tr>\n",
              "    <tr>\n",
              "      <th>1220</th>\n",
              "      <td>fraud_Terry-Huel</td>\n",
              "      <td>1</td>\n",
              "      <td>43</td>\n",
              "      <td>1996</td>\n",
              "      <td>2.154309</td>\n",
              "    </tr>\n",
              "    <tr>\n",
              "      <th>562</th>\n",
              "      <td>fraud_Jast Ltd</td>\n",
              "      <td>1</td>\n",
              "      <td>42</td>\n",
              "      <td>1953</td>\n",
              "      <td>2.150538</td>\n",
              "    </tr>\n",
              "    <tr>\n",
              "      <th>1100</th>\n",
              "      <td>fraud_Schmeler, Bashirian and Price</td>\n",
              "      <td>1</td>\n",
              "      <td>41</td>\n",
              "      <td>1968</td>\n",
              "      <td>2.083333</td>\n",
              "    </tr>\n",
              "    <tr>\n",
              "      <th>145</th>\n",
              "      <td>fraud_Boyer-Reichert</td>\n",
              "      <td>1</td>\n",
              "      <td>38</td>\n",
              "      <td>1908</td>\n",
              "      <td>1.991614</td>\n",
              "    </tr>\n",
              "    <tr>\n",
              "      <th>742</th>\n",
              "      <td>fraud_Langworth, Boehm and Gulgowski</td>\n",
              "      <td>1</td>\n",
              "      <td>39</td>\n",
              "      <td>1969</td>\n",
              "      <td>1.980701</td>\n",
              "    </tr>\n",
              "    <tr>\n",
              "      <th>864</th>\n",
              "      <td>fraud_Moore, Dibbert and Koepp</td>\n",
              "      <td>1</td>\n",
              "      <td>25</td>\n",
              "      <td>1266</td>\n",
              "      <td>1.974724</td>\n",
              "    </tr>\n",
              "    <tr>\n",
              "      <th>63</th>\n",
              "      <td>fraud_Baumbach, Feeney and Morar</td>\n",
              "      <td>1</td>\n",
              "      <td>38</td>\n",
              "      <td>1929</td>\n",
              "      <td>1.969933</td>\n",
              "    </tr>\n",
              "    <tr>\n",
              "      <th>981</th>\n",
              "      <td>fraud_Rau and Sons</td>\n",
              "      <td>1</td>\n",
              "      <td>49</td>\n",
              "      <td>2490</td>\n",
              "      <td>1.967871</td>\n",
              "    </tr>\n",
              "    <tr>\n",
              "      <th>386</th>\n",
              "      <td>fraud_Gleason-Macejkovic</td>\n",
              "      <td>1</td>\n",
              "      <td>40</td>\n",
              "      <td>2033</td>\n",
              "      <td>1.967536</td>\n",
              "    </tr>\n",
              "    <tr>\n",
              "      <th>690</th>\n",
              "      <td>fraud_Kuhic LLC</td>\n",
              "      <td>1</td>\n",
              "      <td>39</td>\n",
              "      <td>1985</td>\n",
              "      <td>1.964736</td>\n",
              "    </tr>\n",
              "    <tr>\n",
              "      <th>692</th>\n",
              "      <td>fraud_Kuhic, Bins and Pfeffer</td>\n",
              "      <td>1</td>\n",
              "      <td>39</td>\n",
              "      <td>2003</td>\n",
              "      <td>1.947079</td>\n",
              "    </tr>\n",
              "    <tr>\n",
              "      <th>967</th>\n",
              "      <td>fraud_Price Inc</td>\n",
              "      <td>1</td>\n",
              "      <td>38</td>\n",
              "      <td>1983</td>\n",
              "      <td>1.916288</td>\n",
              "    </tr>\n",
              "    <tr>\n",
              "      <th>1234</th>\n",
              "      <td>fraud_Tillman, Fritsch and Schmitt</td>\n",
              "      <td>1</td>\n",
              "      <td>25</td>\n",
              "      <td>1307</td>\n",
              "      <td>1.912777</td>\n",
              "    </tr>\n",
              "    <tr>\n",
              "      <th>1278</th>\n",
              "      <td>fraud_Vandervort-Funk</td>\n",
              "      <td>1</td>\n",
              "      <td>47</td>\n",
              "      <td>2474</td>\n",
              "      <td>1.899757</td>\n",
              "    </tr>\n",
              "    <tr>\n",
              "      <th>299</th>\n",
              "      <td>fraud_Durgan-Auer</td>\n",
              "      <td>1</td>\n",
              "      <td>24</td>\n",
              "      <td>1283</td>\n",
              "      <td>1.870616</td>\n",
              "    </tr>\n",
              "  </tbody>\n",
              "</table>\n",
              "</div>"
            ],
            "text/plain": [
              "                                  merchant  is_fraud  Transaction count  \\\n",
              "672                      fraud_Kozey-Boehm         1                 48   \n",
              "489      fraud_Herman, Treutel and Dickens         1                 33   \n",
              "606                  fraud_Kerluke-Abshire         1                 41   \n",
              "159                        fraud_Brown PLC         1                 26   \n",
              "400                      fraud_Goyette Inc         1                 42   \n",
              "1220                      fraud_Terry-Huel         1                 43   \n",
              "562                         fraud_Jast Ltd         1                 42   \n",
              "1100   fraud_Schmeler, Bashirian and Price         1                 41   \n",
              "145                   fraud_Boyer-Reichert         1                 38   \n",
              "742   fraud_Langworth, Boehm and Gulgowski         1                 39   \n",
              "864         fraud_Moore, Dibbert and Koepp         1                 25   \n",
              "63        fraud_Baumbach, Feeney and Morar         1                 38   \n",
              "981                     fraud_Rau and Sons         1                 49   \n",
              "386               fraud_Gleason-Macejkovic         1                 40   \n",
              "690                        fraud_Kuhic LLC         1                 39   \n",
              "692          fraud_Kuhic, Bins and Pfeffer         1                 39   \n",
              "967                        fraud_Price Inc         1                 38   \n",
              "1234    fraud_Tillman, Fritsch and Schmitt         1                 25   \n",
              "1278                 fraud_Vandervort-Funk         1                 47   \n",
              "299                      fraud_Durgan-Auer         1                 24   \n",
              "\n",
              "      merchant_count  Transaction percentage  \n",
              "672             1866                2.572347  \n",
              "489             1300                2.538462  \n",
              "606             1838                2.230686  \n",
              "159             1176                2.210884  \n",
              "400             1943                2.161606  \n",
              "1220            1996                2.154309  \n",
              "562             1953                2.150538  \n",
              "1100            1968                2.083333  \n",
              "145             1908                1.991614  \n",
              "742             1969                1.980701  \n",
              "864             1266                1.974724  \n",
              "63              1929                1.969933  \n",
              "981             2490                1.967871  \n",
              "386             2033                1.967536  \n",
              "690             1985                1.964736  \n",
              "692             2003                1.947079  \n",
              "967             1983                1.916288  \n",
              "1234            1307                1.912777  \n",
              "1278            2474                1.899757  \n",
              "299             1283                1.870616  "
            ]
          },
          "execution_count": 418,
          "metadata": {},
          "output_type": "execute_result"
        }
      ],
      "source": [
        "#constructing the merchant-transaction count distribution\n",
        "df_merchant = train_df[['merchant','trans_num']].groupby(['merchant']).count().reset_index()\n",
        "df_merchant.columns = ['merchant', 'merchant_count']\n",
        "\n",
        "#creating the zip-fraud distribution\n",
        "df_fraud_merchant = train_df[['merchant', 'is_fraud', 'trans_num']].groupby(['merchant', 'is_fraud']).count().reset_index()\n",
        "df_fraud_merchant.columns = ['merchant', 'is_fraud', 'Transaction count']\n",
        "print(df_fraud_merchant)\n",
        "\n",
        "df_fraud_merchant = df_fraud_merchant.merge(df_merchant[['merchant', 'merchant_count']], how='inner', on='merchant')\n",
        "\n",
        "df_fraud_merchant['Transaction percentage'] = (df_fraud_merchant['Transaction count']/df_fraud_merchant['merchant_count'])*100\n",
        "\n",
        "#Display the top 20 merchant with high fraudulent transaction volumes\n",
        "df_fraud_merchant[df_fraud_merchant['is_fraud'] == 1].sort_values(by = ['Transaction percentage'], ascending=False).head(20)"
      ]
    },
    {
      "cell_type": "code",
      "execution_count": 419,
      "metadata": {},
      "outputs": [],
      "source": [
        "import pandas as pd\n",
        "import datetime\n",
        "\n",
        "# convert dob into age\n",
        "now = datetime.datetime.now()\n",
        "train_df['dob'] = pd.to_datetime(train_df['dob'], format='%Y-%m-%d')\n",
        "train_df['age'] = (now.date().year - train_df['dob'].dt.year)\n",
        "\n",
        "# combine first and last names\n",
        "train_df['full_name'] = train_df['first'] + \" \" + train_df['last']"
      ]
    },
    {
      "cell_type": "code",
      "execution_count": 420,
      "metadata": {},
      "outputs": [
        {
          "name": "stderr",
          "output_type": "stream",
          "text": [
            "Done! Use 'show' commands to display/save.   |██████████| [100%]   00:00 -> (00:00 left)\n"
          ]
        },
        {
          "name": "stdout",
          "output_type": "stream",
          "text": [
            "Report SWEETVIZ_REPORT.html was generated! NOTEBOOK/COLAB USERS: the web browser MAY not pop up, regardless, the report IS saved in your notebook/colab files.\n"
          ]
        }
      ],
      "source": [
        "import sweetviz as sv\n",
        "my_report = sv.analyze(\n",
        "    train_df,\n",
        "    target_feat='is_fraud'\n",
        ")\n",
        "my_report.show_html()"
      ]
    },
    {
      "cell_type": "code",
      "execution_count": 421,
      "metadata": {},
      "outputs": [
        {
          "data": {
            "text/html": [
              "<div>\n",
              "<style scoped>\n",
              "    .dataframe tbody tr th:only-of-type {\n",
              "        vertical-align: middle;\n",
              "    }\n",
              "\n",
              "    .dataframe tbody tr th {\n",
              "        vertical-align: top;\n",
              "    }\n",
              "\n",
              "    .dataframe thead th {\n",
              "        text-align: right;\n",
              "    }\n",
              "</style>\n",
              "<table border=\"1\" class=\"dataframe\">\n",
              "  <thead>\n",
              "    <tr style=\"text-align: right;\">\n",
              "      <th></th>\n",
              "      <th>trans_date_trans_time</th>\n",
              "      <th>cc_num</th>\n",
              "      <th>merchant</th>\n",
              "      <th>category</th>\n",
              "      <th>amt</th>\n",
              "      <th>first</th>\n",
              "      <th>last</th>\n",
              "      <th>gender</th>\n",
              "      <th>street</th>\n",
              "      <th>city</th>\n",
              "      <th>state</th>\n",
              "      <th>zip</th>\n",
              "      <th>lat</th>\n",
              "      <th>long</th>\n",
              "      <th>city_pop</th>\n",
              "      <th>job</th>\n",
              "      <th>dob</th>\n",
              "      <th>trans_num</th>\n",
              "      <th>unix_time</th>\n",
              "      <th>merch_lat</th>\n",
              "      <th>merch_long</th>\n",
              "      <th>is_fraud</th>\n",
              "      <th>age</th>\n",
              "      <th>full_name</th>\n",
              "    </tr>\n",
              "  </thead>\n",
              "  <tbody>\n",
              "    <tr>\n",
              "      <th>0</th>\n",
              "      <td>2019-01-01 00:00:18</td>\n",
              "      <td>2703186189652095</td>\n",
              "      <td>fraud_Rippin, Kub and Mann</td>\n",
              "      <td>misc_net</td>\n",
              "      <td>4.97</td>\n",
              "      <td>Jennifer</td>\n",
              "      <td>Banks</td>\n",
              "      <td>F</td>\n",
              "      <td>561 Perry Cove</td>\n",
              "      <td>Moravian Falls</td>\n",
              "      <td>NC</td>\n",
              "      <td>28654</td>\n",
              "      <td>36.0788</td>\n",
              "      <td>-81.1781</td>\n",
              "      <td>3495</td>\n",
              "      <td>Psychologist, counselling</td>\n",
              "      <td>1988-03-09</td>\n",
              "      <td>0b242abb623afc578575680df30655b9</td>\n",
              "      <td>1325376018</td>\n",
              "      <td>36.011293</td>\n",
              "      <td>-82.048315</td>\n",
              "      <td>0</td>\n",
              "      <td>36</td>\n",
              "      <td>Jennifer Banks</td>\n",
              "    </tr>\n",
              "    <tr>\n",
              "      <th>1</th>\n",
              "      <td>2019-01-01 00:00:44</td>\n",
              "      <td>630423337322</td>\n",
              "      <td>fraud_Heller, Gutmann and Zieme</td>\n",
              "      <td>grocery_pos</td>\n",
              "      <td>107.23</td>\n",
              "      <td>Stephanie</td>\n",
              "      <td>Gill</td>\n",
              "      <td>F</td>\n",
              "      <td>43039 Riley Greens Suite 393</td>\n",
              "      <td>Orient</td>\n",
              "      <td>WA</td>\n",
              "      <td>99160</td>\n",
              "      <td>48.8878</td>\n",
              "      <td>-118.2105</td>\n",
              "      <td>149</td>\n",
              "      <td>Special educational needs teacher</td>\n",
              "      <td>1978-06-21</td>\n",
              "      <td>1f76529f8574734946361c461b024d99</td>\n",
              "      <td>1325376044</td>\n",
              "      <td>49.159047</td>\n",
              "      <td>-118.186462</td>\n",
              "      <td>0</td>\n",
              "      <td>46</td>\n",
              "      <td>Stephanie Gill</td>\n",
              "    </tr>\n",
              "    <tr>\n",
              "      <th>2</th>\n",
              "      <td>2019-01-01 00:00:51</td>\n",
              "      <td>38859492057661</td>\n",
              "      <td>fraud_Lind-Buckridge</td>\n",
              "      <td>entertainment</td>\n",
              "      <td>220.11</td>\n",
              "      <td>Edward</td>\n",
              "      <td>Sanchez</td>\n",
              "      <td>M</td>\n",
              "      <td>594 White Dale Suite 530</td>\n",
              "      <td>Malad City</td>\n",
              "      <td>ID</td>\n",
              "      <td>83252</td>\n",
              "      <td>42.1808</td>\n",
              "      <td>-112.2620</td>\n",
              "      <td>4154</td>\n",
              "      <td>Nature conservation officer</td>\n",
              "      <td>1962-01-19</td>\n",
              "      <td>a1a22d70485983eac12b5b88dad1cf95</td>\n",
              "      <td>1325376051</td>\n",
              "      <td>43.150704</td>\n",
              "      <td>-112.154481</td>\n",
              "      <td>0</td>\n",
              "      <td>62</td>\n",
              "      <td>Edward Sanchez</td>\n",
              "    </tr>\n",
              "    <tr>\n",
              "      <th>3</th>\n",
              "      <td>2019-01-01 00:01:16</td>\n",
              "      <td>3534093764340240</td>\n",
              "      <td>fraud_Kutch, Hermiston and Farrell</td>\n",
              "      <td>gas_transport</td>\n",
              "      <td>45.00</td>\n",
              "      <td>Jeremy</td>\n",
              "      <td>White</td>\n",
              "      <td>M</td>\n",
              "      <td>9443 Cynthia Court Apt. 038</td>\n",
              "      <td>Boulder</td>\n",
              "      <td>MT</td>\n",
              "      <td>59632</td>\n",
              "      <td>46.2306</td>\n",
              "      <td>-112.1138</td>\n",
              "      <td>1939</td>\n",
              "      <td>Patent attorney</td>\n",
              "      <td>1967-01-12</td>\n",
              "      <td>6b849c168bdad6f867558c3793159a81</td>\n",
              "      <td>1325376076</td>\n",
              "      <td>47.034331</td>\n",
              "      <td>-112.561071</td>\n",
              "      <td>0</td>\n",
              "      <td>57</td>\n",
              "      <td>Jeremy White</td>\n",
              "    </tr>\n",
              "    <tr>\n",
              "      <th>4</th>\n",
              "      <td>2019-01-01 00:03:06</td>\n",
              "      <td>375534208663984</td>\n",
              "      <td>fraud_Keeling-Crist</td>\n",
              "      <td>misc_pos</td>\n",
              "      <td>41.96</td>\n",
              "      <td>Tyler</td>\n",
              "      <td>Garcia</td>\n",
              "      <td>M</td>\n",
              "      <td>408 Bradley Rest</td>\n",
              "      <td>Doe Hill</td>\n",
              "      <td>VA</td>\n",
              "      <td>24433</td>\n",
              "      <td>38.4207</td>\n",
              "      <td>-79.4629</td>\n",
              "      <td>99</td>\n",
              "      <td>Dance movement psychotherapist</td>\n",
              "      <td>1986-03-28</td>\n",
              "      <td>a41d7549acf90789359a9aa5346dcb46</td>\n",
              "      <td>1325376186</td>\n",
              "      <td>38.674999</td>\n",
              "      <td>-78.632459</td>\n",
              "      <td>0</td>\n",
              "      <td>38</td>\n",
              "      <td>Tyler Garcia</td>\n",
              "    </tr>\n",
              "  </tbody>\n",
              "</table>\n",
              "</div>"
            ],
            "text/plain": [
              "  trans_date_trans_time            cc_num                            merchant  \\\n",
              "0   2019-01-01 00:00:18  2703186189652095          fraud_Rippin, Kub and Mann   \n",
              "1   2019-01-01 00:00:44      630423337322     fraud_Heller, Gutmann and Zieme   \n",
              "2   2019-01-01 00:00:51    38859492057661                fraud_Lind-Buckridge   \n",
              "3   2019-01-01 00:01:16  3534093764340240  fraud_Kutch, Hermiston and Farrell   \n",
              "4   2019-01-01 00:03:06   375534208663984                 fraud_Keeling-Crist   \n",
              "\n",
              "        category     amt      first     last gender  \\\n",
              "0       misc_net    4.97   Jennifer    Banks      F   \n",
              "1    grocery_pos  107.23  Stephanie     Gill      F   \n",
              "2  entertainment  220.11     Edward  Sanchez      M   \n",
              "3  gas_transport   45.00     Jeremy    White      M   \n",
              "4       misc_pos   41.96      Tyler   Garcia      M   \n",
              "\n",
              "                         street            city state    zip      lat  \\\n",
              "0                561 Perry Cove  Moravian Falls    NC  28654  36.0788   \n",
              "1  43039 Riley Greens Suite 393          Orient    WA  99160  48.8878   \n",
              "2      594 White Dale Suite 530      Malad City    ID  83252  42.1808   \n",
              "3   9443 Cynthia Court Apt. 038         Boulder    MT  59632  46.2306   \n",
              "4              408 Bradley Rest        Doe Hill    VA  24433  38.4207   \n",
              "\n",
              "       long  city_pop                                job        dob  \\\n",
              "0  -81.1781      3495          Psychologist, counselling 1988-03-09   \n",
              "1 -118.2105       149  Special educational needs teacher 1978-06-21   \n",
              "2 -112.2620      4154        Nature conservation officer 1962-01-19   \n",
              "3 -112.1138      1939                    Patent attorney 1967-01-12   \n",
              "4  -79.4629        99     Dance movement psychotherapist 1986-03-28   \n",
              "\n",
              "                          trans_num   unix_time  merch_lat  merch_long  \\\n",
              "0  0b242abb623afc578575680df30655b9  1325376018  36.011293  -82.048315   \n",
              "1  1f76529f8574734946361c461b024d99  1325376044  49.159047 -118.186462   \n",
              "2  a1a22d70485983eac12b5b88dad1cf95  1325376051  43.150704 -112.154481   \n",
              "3  6b849c168bdad6f867558c3793159a81  1325376076  47.034331 -112.561071   \n",
              "4  a41d7549acf90789359a9aa5346dcb46  1325376186  38.674999  -78.632459   \n",
              "\n",
              "   is_fraud  age       full_name  \n",
              "0         0   36  Jennifer Banks  \n",
              "1         0   46  Stephanie Gill  \n",
              "2         0   62  Edward Sanchez  \n",
              "3         0   57    Jeremy White  \n",
              "4         0   38    Tyler Garcia  "
            ]
          },
          "execution_count": 421,
          "metadata": {},
          "output_type": "execute_result"
        }
      ],
      "source": [
        "train_df.head(n=5)"
      ]
    },
    {
      "cell_type": "code",
      "execution_count": 422,
      "metadata": {},
      "outputs": [],
      "source": [
        "X = train_df.drop(['is_fraud'], axis=1)\n",
        "y = train_df['is_fraud']\n",
        "\n",
        "from sklearn.model_selection import train_test_split\n",
        "\n",
        "X_train, X_test, y_train, y_test = train_test_split(\n",
        "    X, y,\n",
        "    test_size=0.2,\n",
        "    random_state=4\n",
        ")"
      ]
    },
    {
      "cell_type": "markdown",
      "metadata": {},
      "source": [
        "### Check datatype of 'suspicious' column"
      ]
    },
    {
      "cell_type": "code",
      "execution_count": 423,
      "metadata": {},
      "outputs": [
        {
          "data": {
            "text/html": [
              "<div>\n",
              "<style scoped>\n",
              "    .dataframe tbody tr th:only-of-type {\n",
              "        vertical-align: middle;\n",
              "    }\n",
              "\n",
              "    .dataframe tbody tr th {\n",
              "        vertical-align: top;\n",
              "    }\n",
              "\n",
              "    .dataframe thead th {\n",
              "        text-align: right;\n",
              "    }\n",
              "</style>\n",
              "<table border=\"1\" class=\"dataframe\">\n",
              "  <thead>\n",
              "    <tr style=\"text-align: right;\">\n",
              "      <th></th>\n",
              "      <th>trans_date_trans_time</th>\n",
              "      <th>cc_num</th>\n",
              "      <th>merchant</th>\n",
              "      <th>category</th>\n",
              "      <th>amt</th>\n",
              "      <th>first</th>\n",
              "      <th>last</th>\n",
              "      <th>gender</th>\n",
              "      <th>street</th>\n",
              "      <th>city</th>\n",
              "      <th>state</th>\n",
              "      <th>zip</th>\n",
              "      <th>lat</th>\n",
              "      <th>long</th>\n",
              "      <th>city_pop</th>\n",
              "      <th>job</th>\n",
              "      <th>dob</th>\n",
              "      <th>trans_id</th>\n",
              "      <th>unix_time</th>\n",
              "      <th>merch_lat</th>\n",
              "      <th>merch_long</th>\n",
              "      <th>age</th>\n",
              "      <th>full_name</th>\n",
              "    </tr>\n",
              "  </thead>\n",
              "  <tbody>\n",
              "    <tr>\n",
              "      <th>419112</th>\n",
              "      <td>1.562533e+09</td>\n",
              "      <td>38588538868506</td>\n",
              "      <td>fraud_Abernathy and Sons</td>\n",
              "      <td>food_dining</td>\n",
              "      <td>22.42</td>\n",
              "      <td>Jacqueline</td>\n",
              "      <td>Curry</td>\n",
              "      <td>F</td>\n",
              "      <td>3047 Jeff Place</td>\n",
              "      <td>Marathon</td>\n",
              "      <td>TX</td>\n",
              "      <td>79842</td>\n",
              "      <td>30.1886</td>\n",
              "      <td>-103.2214</td>\n",
              "      <td>498</td>\n",
              "      <td>Lexicographer</td>\n",
              "      <td>1990-11-23</td>\n",
              "      <td>4609d39437b5433fece4a3621aeb722d</td>\n",
              "      <td>1341694120</td>\n",
              "      <td>29.803451</td>\n",
              "      <td>-102.470456</td>\n",
              "      <td>34</td>\n",
              "      <td>Jacqueline Curry</td>\n",
              "    </tr>\n",
              "    <tr>\n",
              "      <th>693405</th>\n",
              "      <td>1.571773e+09</td>\n",
              "      <td>213112402583773</td>\n",
              "      <td>fraud_Schumm PLC</td>\n",
              "      <td>health_fitness</td>\n",
              "      <td>1.39</td>\n",
              "      <td>Ana</td>\n",
              "      <td>Howell</td>\n",
              "      <td>F</td>\n",
              "      <td>4664 Sanchez Common Suite 930</td>\n",
              "      <td>Bradley</td>\n",
              "      <td>SC</td>\n",
              "      <td>29819</td>\n",
              "      <td>34.0326</td>\n",
              "      <td>-82.2027</td>\n",
              "      <td>1523</td>\n",
              "      <td>Research scientist (physical sciences)</td>\n",
              "      <td>1984-06-03</td>\n",
              "      <td>f516020b74184d502d0992e6da8dcd5c</td>\n",
              "      <td>1350934530</td>\n",
              "      <td>34.599072</td>\n",
              "      <td>-82.056040</td>\n",
              "      <td>40</td>\n",
              "      <td>Ana Howell</td>\n",
              "    </tr>\n",
              "    <tr>\n",
              "      <th>1271246</th>\n",
              "      <td>1.591944e+09</td>\n",
              "      <td>4586810168620942</td>\n",
              "      <td>fraud_Ferry, Reichel and DuBuque</td>\n",
              "      <td>grocery_net</td>\n",
              "      <td>14.04</td>\n",
              "      <td>Michelle</td>\n",
              "      <td>Gregory</td>\n",
              "      <td>F</td>\n",
              "      <td>6983 Carrillo Isle</td>\n",
              "      <td>Edisto Island</td>\n",
              "      <td>SC</td>\n",
              "      <td>29438</td>\n",
              "      <td>32.5486</td>\n",
              "      <td>-80.3070</td>\n",
              "      <td>2408</td>\n",
              "      <td>Sales professional, IT</td>\n",
              "      <td>1997-07-05</td>\n",
              "      <td>1ed6ed0e7b10198994356dc3f5ebfbf7</td>\n",
              "      <td>1371019669</td>\n",
              "      <td>32.499761</td>\n",
              "      <td>-79.593420</td>\n",
              "      <td>27</td>\n",
              "      <td>Michelle Gregory</td>\n",
              "    </tr>\n",
              "    <tr>\n",
              "      <th>333183</th>\n",
              "      <td>1.559936e+09</td>\n",
              "      <td>6535328428560433</td>\n",
              "      <td>fraud_Altenwerth-Kilback</td>\n",
              "      <td>home</td>\n",
              "      <td>20.87</td>\n",
              "      <td>Michelle</td>\n",
              "      <td>Beck</td>\n",
              "      <td>F</td>\n",
              "      <td>2887 Olson Road Suite 439</td>\n",
              "      <td>Minneapolis</td>\n",
              "      <td>MN</td>\n",
              "      <td>55428</td>\n",
              "      <td>45.0632</td>\n",
              "      <td>-93.3811</td>\n",
              "      <td>1022298</td>\n",
              "      <td>Analytical chemist</td>\n",
              "      <td>1967-10-28</td>\n",
              "      <td>f1836ba87430d0c5373fe23bf8e9996d</td>\n",
              "      <td>1339097419</td>\n",
              "      <td>44.373684</td>\n",
              "      <td>-94.036093</td>\n",
              "      <td>57</td>\n",
              "      <td>Michelle Beck</td>\n",
              "    </tr>\n",
              "    <tr>\n",
              "      <th>1063308</th>\n",
              "      <td>1.584422e+09</td>\n",
              "      <td>4900628639996</td>\n",
              "      <td>fraud_Schoen, Kuphal and Nitzsche</td>\n",
              "      <td>grocery_pos</td>\n",
              "      <td>69.59</td>\n",
              "      <td>Michael</td>\n",
              "      <td>Johnson</td>\n",
              "      <td>M</td>\n",
              "      <td>094 Owens Underpass</td>\n",
              "      <td>Norwalk</td>\n",
              "      <td>CA</td>\n",
              "      <td>90650</td>\n",
              "      <td>33.9056</td>\n",
              "      <td>-118.0818</td>\n",
              "      <td>105549</td>\n",
              "      <td>Firefighter</td>\n",
              "      <td>1973-09-22</td>\n",
              "      <td>ec1715b32bb60c5a6fff347d9dcc810e</td>\n",
              "      <td>1363497081</td>\n",
              "      <td>34.446528</td>\n",
              "      <td>-118.164904</td>\n",
              "      <td>51</td>\n",
              "      <td>Michael Johnson</td>\n",
              "    </tr>\n",
              "    <tr>\n",
              "      <th>...</th>\n",
              "      <td>...</td>\n",
              "      <td>...</td>\n",
              "      <td>...</td>\n",
              "      <td>...</td>\n",
              "      <td>...</td>\n",
              "      <td>...</td>\n",
              "      <td>...</td>\n",
              "      <td>...</td>\n",
              "      <td>...</td>\n",
              "      <td>...</td>\n",
              "      <td>...</td>\n",
              "      <td>...</td>\n",
              "      <td>...</td>\n",
              "      <td>...</td>\n",
              "      <td>...</td>\n",
              "      <td>...</td>\n",
              "      <td>...</td>\n",
              "      <td>...</td>\n",
              "      <td>...</td>\n",
              "      <td>...</td>\n",
              "      <td>...</td>\n",
              "      <td>...</td>\n",
              "      <td>...</td>\n",
              "    </tr>\n",
              "    <tr>\n",
              "      <th>1221517</th>\n",
              "      <td>1.590424e+09</td>\n",
              "      <td>4890424426862856940</td>\n",
              "      <td>fraud_Lowe, Dietrich and Erdman</td>\n",
              "      <td>kids_pets</td>\n",
              "      <td>15.79</td>\n",
              "      <td>Jeremy</td>\n",
              "      <td>Whitney</td>\n",
              "      <td>M</td>\n",
              "      <td>0371 Aimee Neck Suite 856</td>\n",
              "      <td>Sacramento</td>\n",
              "      <td>CA</td>\n",
              "      <td>95827</td>\n",
              "      <td>38.5662</td>\n",
              "      <td>-121.3286</td>\n",
              "      <td>757530</td>\n",
              "      <td>Magazine features editor</td>\n",
              "      <td>1979-04-30</td>\n",
              "      <td>be0f668177a7f26eb60c6a3eb8c86968</td>\n",
              "      <td>1369498789</td>\n",
              "      <td>37.990781</td>\n",
              "      <td>-120.730593</td>\n",
              "      <td>45</td>\n",
              "      <td>Jeremy Whitney</td>\n",
              "    </tr>\n",
              "    <tr>\n",
              "      <th>763773</th>\n",
              "      <td>1.574515e+09</td>\n",
              "      <td>4210078554961359092</td>\n",
              "      <td>fraud_Zboncak Ltd</td>\n",
              "      <td>food_dining</td>\n",
              "      <td>2.98</td>\n",
              "      <td>Valerie</td>\n",
              "      <td>Clark</td>\n",
              "      <td>F</td>\n",
              "      <td>7402 West Ranch</td>\n",
              "      <td>Lowell</td>\n",
              "      <td>OR</td>\n",
              "      <td>97452</td>\n",
              "      <td>43.9210</td>\n",
              "      <td>-122.7806</td>\n",
              "      <td>1420</td>\n",
              "      <td>Systems analyst</td>\n",
              "      <td>1965-11-11</td>\n",
              "      <td>28faf72414184bc8c30651a22e87c68d</td>\n",
              "      <td>1353676387</td>\n",
              "      <td>43.246303</td>\n",
              "      <td>-123.406798</td>\n",
              "      <td>59</td>\n",
              "      <td>Valerie Clark</td>\n",
              "    </tr>\n",
              "    <tr>\n",
              "      <th>919218</th>\n",
              "      <td>1.577718e+09</td>\n",
              "      <td>4988304376504</td>\n",
              "      <td>fraud_Kling-Ernser</td>\n",
              "      <td>entertainment</td>\n",
              "      <td>1.33</td>\n",
              "      <td>William</td>\n",
              "      <td>Thompson</td>\n",
              "      <td>M</td>\n",
              "      <td>977 Rita Grove Apt. 000</td>\n",
              "      <td>Rock Tavern</td>\n",
              "      <td>NY</td>\n",
              "      <td>12575</td>\n",
              "      <td>41.4575</td>\n",
              "      <td>-74.1659</td>\n",
              "      <td>2258</td>\n",
              "      <td>Building surveyor</td>\n",
              "      <td>1937-03-17</td>\n",
              "      <td>2bb02d837a95e9605072c80ce3e555c6</td>\n",
              "      <td>1356879135</td>\n",
              "      <td>41.453861</td>\n",
              "      <td>-74.468539</td>\n",
              "      <td>87</td>\n",
              "      <td>William Thompson</td>\n",
              "    </tr>\n",
              "    <tr>\n",
              "      <th>10969</th>\n",
              "      <td>1.546872e+09</td>\n",
              "      <td>4342532437704183</td>\n",
              "      <td>fraud_Medhurst Inc</td>\n",
              "      <td>home</td>\n",
              "      <td>53.12</td>\n",
              "      <td>Kevin</td>\n",
              "      <td>Elliott</td>\n",
              "      <td>M</td>\n",
              "      <td>1852 Vincent Isle Suite 328</td>\n",
              "      <td>Newark Valley</td>\n",
              "      <td>NY</td>\n",
              "      <td>13811</td>\n",
              "      <td>42.2281</td>\n",
              "      <td>-76.1625</td>\n",
              "      <td>4354</td>\n",
              "      <td>Further education lecturer</td>\n",
              "      <td>1994-02-16</td>\n",
              "      <td>679712822b5d96b3ecaf5398093ed688</td>\n",
              "      <td>1325947504</td>\n",
              "      <td>42.391799</td>\n",
              "      <td>-76.197079</td>\n",
              "      <td>30</td>\n",
              "      <td>Kevin Elliott</td>\n",
              "    </tr>\n",
              "    <tr>\n",
              "      <th>986961</th>\n",
              "      <td>1.581000e+09</td>\n",
              "      <td>3547574373318979</td>\n",
              "      <td>fraud_Zboncak LLC</td>\n",
              "      <td>food_dining</td>\n",
              "      <td>128.52</td>\n",
              "      <td>Jacob</td>\n",
              "      <td>Patel</td>\n",
              "      <td>M</td>\n",
              "      <td>54822 Hill Forks</td>\n",
              "      <td>Dieterich</td>\n",
              "      <td>IL</td>\n",
              "      <td>62424</td>\n",
              "      <td>39.0319</td>\n",
              "      <td>-88.4074</td>\n",
              "      <td>2092</td>\n",
              "      <td>Psychologist, clinical</td>\n",
              "      <td>1962-04-30</td>\n",
              "      <td>8859c7cf84511ae0243a9d40d9433195</td>\n",
              "      <td>1360161928</td>\n",
              "      <td>39.780457</td>\n",
              "      <td>-88.200962</td>\n",
              "      <td>62</td>\n",
              "      <td>Jacob Patel</td>\n",
              "    </tr>\n",
              "  </tbody>\n",
              "</table>\n",
              "<p>100 rows × 23 columns</p>\n",
              "</div>"
            ],
            "text/plain": [
              "         trans_date_trans_time               cc_num  \\\n",
              "419112            1.562533e+09       38588538868506   \n",
              "693405            1.571773e+09      213112402583773   \n",
              "1271246           1.591944e+09     4586810168620942   \n",
              "333183            1.559936e+09     6535328428560433   \n",
              "1063308           1.584422e+09        4900628639996   \n",
              "...                        ...                  ...   \n",
              "1221517           1.590424e+09  4890424426862856940   \n",
              "763773            1.574515e+09  4210078554961359092   \n",
              "919218            1.577718e+09        4988304376504   \n",
              "10969             1.546872e+09     4342532437704183   \n",
              "986961            1.581000e+09     3547574373318979   \n",
              "\n",
              "                                  merchant        category     amt  \\\n",
              "419112            fraud_Abernathy and Sons     food_dining   22.42   \n",
              "693405                    fraud_Schumm PLC  health_fitness    1.39   \n",
              "1271246   fraud_Ferry, Reichel and DuBuque     grocery_net   14.04   \n",
              "333183            fraud_Altenwerth-Kilback            home   20.87   \n",
              "1063308  fraud_Schoen, Kuphal and Nitzsche     grocery_pos   69.59   \n",
              "...                                    ...             ...     ...   \n",
              "1221517    fraud_Lowe, Dietrich and Erdman       kids_pets   15.79   \n",
              "763773                   fraud_Zboncak Ltd     food_dining    2.98   \n",
              "919218                  fraud_Kling-Ernser   entertainment    1.33   \n",
              "10969                   fraud_Medhurst Inc            home   53.12   \n",
              "986961                   fraud_Zboncak LLC     food_dining  128.52   \n",
              "\n",
              "              first      last gender                         street  \\\n",
              "419112   Jacqueline     Curry      F                3047 Jeff Place   \n",
              "693405          Ana    Howell      F  4664 Sanchez Common Suite 930   \n",
              "1271246    Michelle   Gregory      F             6983 Carrillo Isle   \n",
              "333183     Michelle      Beck      F      2887 Olson Road Suite 439   \n",
              "1063308     Michael   Johnson      M            094 Owens Underpass   \n",
              "...             ...       ...    ...                            ...   \n",
              "1221517      Jeremy   Whitney      M      0371 Aimee Neck Suite 856   \n",
              "763773      Valerie     Clark      F                7402 West Ranch   \n",
              "919218      William  Thompson      M        977 Rita Grove Apt. 000   \n",
              "10969         Kevin   Elliott      M    1852 Vincent Isle Suite 328   \n",
              "986961        Jacob     Patel      M               54822 Hill Forks   \n",
              "\n",
              "                  city state    zip      lat      long  city_pop  \\\n",
              "419112        Marathon    TX  79842  30.1886 -103.2214       498   \n",
              "693405         Bradley    SC  29819  34.0326  -82.2027      1523   \n",
              "1271246  Edisto Island    SC  29438  32.5486  -80.3070      2408   \n",
              "333183     Minneapolis    MN  55428  45.0632  -93.3811   1022298   \n",
              "1063308        Norwalk    CA  90650  33.9056 -118.0818    105549   \n",
              "...                ...   ...    ...      ...       ...       ...   \n",
              "1221517     Sacramento    CA  95827  38.5662 -121.3286    757530   \n",
              "763773          Lowell    OR  97452  43.9210 -122.7806      1420   \n",
              "919218     Rock Tavern    NY  12575  41.4575  -74.1659      2258   \n",
              "10969    Newark Valley    NY  13811  42.2281  -76.1625      4354   \n",
              "986961       Dieterich    IL  62424  39.0319  -88.4074      2092   \n",
              "\n",
              "                                            job        dob  \\\n",
              "419112                            Lexicographer 1990-11-23   \n",
              "693405   Research scientist (physical sciences) 1984-06-03   \n",
              "1271246                  Sales professional, IT 1997-07-05   \n",
              "333183                       Analytical chemist 1967-10-28   \n",
              "1063308                             Firefighter 1973-09-22   \n",
              "...                                         ...        ...   \n",
              "1221517                Magazine features editor 1979-04-30   \n",
              "763773                          Systems analyst 1965-11-11   \n",
              "919218                        Building surveyor 1937-03-17   \n",
              "10969                Further education lecturer 1994-02-16   \n",
              "986961                   Psychologist, clinical 1962-04-30   \n",
              "\n",
              "                                 trans_id   unix_time  merch_lat  merch_long  \\\n",
              "419112   4609d39437b5433fece4a3621aeb722d  1341694120  29.803451 -102.470456   \n",
              "693405   f516020b74184d502d0992e6da8dcd5c  1350934530  34.599072  -82.056040   \n",
              "1271246  1ed6ed0e7b10198994356dc3f5ebfbf7  1371019669  32.499761  -79.593420   \n",
              "333183   f1836ba87430d0c5373fe23bf8e9996d  1339097419  44.373684  -94.036093   \n",
              "1063308  ec1715b32bb60c5a6fff347d9dcc810e  1363497081  34.446528 -118.164904   \n",
              "...                                   ...         ...        ...         ...   \n",
              "1221517  be0f668177a7f26eb60c6a3eb8c86968  1369498789  37.990781 -120.730593   \n",
              "763773   28faf72414184bc8c30651a22e87c68d  1353676387  43.246303 -123.406798   \n",
              "919218   2bb02d837a95e9605072c80ce3e555c6  1356879135  41.453861  -74.468539   \n",
              "10969    679712822b5d96b3ecaf5398093ed688  1325947504  42.391799  -76.197079   \n",
              "986961   8859c7cf84511ae0243a9d40d9433195  1360161928  39.780457  -88.200962   \n",
              "\n",
              "         age         full_name  \n",
              "419112    34  Jacqueline Curry  \n",
              "693405    40        Ana Howell  \n",
              "1271246   27  Michelle Gregory  \n",
              "333183    57     Michelle Beck  \n",
              "1063308   51   Michael Johnson  \n",
              "...      ...               ...  \n",
              "1221517   45    Jeremy Whitney  \n",
              "763773    59     Valerie Clark  \n",
              "919218    87  William Thompson  \n",
              "10969     30     Kevin Elliott  \n",
              "986961    62       Jacob Patel  \n",
              "\n",
              "[100 rows x 23 columns]"
            ]
          },
          "execution_count": 423,
          "metadata": {},
          "output_type": "execute_result"
        }
      ],
      "source": [
        "def date_to_timestamp(date):\n",
        "    return pd.Timestamp(date).timestamp()\n",
        "\n",
        "X_train['trans_date_trans_timestamp'] = X_train['trans_date_trans_time'].apply(date_to_timestamp)\n",
        "\n",
        "X_train['trans_date_trans_time'] = X_train['trans_date_trans_timestamp']\n",
        "\n",
        "X_train = X_train.drop(['trans_date_trans_timestamp'], axis=1)\n",
        "\n",
        "X_train = X_train.rename(columns={\n",
        "    \"trans_num\": \"trans_id\"\n",
        "})\n",
        "\n",
        "X_train.head(n=100)"
      ]
    },
    {
      "cell_type": "code",
      "execution_count": 424,
      "metadata": {},
      "outputs": [
        {
          "name": "stdout",
          "output_type": "stream",
          "text": [
            "There are 0 duplicate row(s) in this DataFrame.\n"
          ]
        }
      ],
      "source": [
        "duplicate_num_row = X_train.duplicated().sum()\n",
        "print(f\"There are {duplicate_num_row} duplicate row(s) in this DataFrame.\")"
      ]
    },
    {
      "cell_type": "code",
      "execution_count": 425,
      "metadata": {},
      "outputs": [
        {
          "name": "stdout",
          "output_type": "stream",
          "text": [
            "There are trans_date_trans_time    0\n",
            "cc_num                   0\n",
            "merchant                 0\n",
            "category                 0\n",
            "amt                      0\n",
            "first                    0\n",
            "last                     0\n",
            "gender                   0\n",
            "street                   0\n",
            "city                     0\n",
            "state                    0\n",
            "zip                      0\n",
            "lat                      0\n",
            "long                     0\n",
            "city_pop                 0\n",
            "job                      0\n",
            "dob                      0\n",
            "trans_id                 0\n",
            "unix_time                0\n",
            "merch_lat                0\n",
            "merch_long               0\n",
            "age                      0\n",
            "full_name                0\n",
            "dtype: int64 missing values.\n"
          ]
        }
      ],
      "source": [
        "# Check which column has missing values\n",
        "missing_val_num = X_train.isnull().sum()\n",
        "print(f\"There are {missing_val_num} missing values.\")"
      ]
    },
    {
      "cell_type": "code",
      "execution_count": 426,
      "metadata": {},
      "outputs": [
        {
          "data": {
            "text/plain": [
              "trans_id\n",
              "4609d39437b5433fece4a3621aeb722d    1\n",
              "b143fe36c60c08fdf753a0412347c4fa    1\n",
              "0055d9f86721d23a0517c82f5dfca303    1\n",
              "a893429f2c4e547c3c384c61f5e67779    1\n",
              "cbb3b75c01debf847228ad194007a797    1\n",
              "                                   ..\n",
              "9d8178c74deb6e4e7905c63126d1580b    1\n",
              "b118d6ca95790dec8e1bd62453b85661    1\n",
              "d791021421979fc770aa63ce61d42f11    1\n",
              "b573b543d97a44c869d993a623d75f9d    1\n",
              "83fc3895b5caa19f322884083dfc3cc7    1\n",
              "Name: count, Length: 1037340, dtype: int64"
            ]
          },
          "execution_count": 426,
          "metadata": {},
          "output_type": "execute_result"
        }
      ],
      "source": [
        "X_train['trans_id'].value_counts()"
      ]
    },
    {
      "cell_type": "code",
      "execution_count": 427,
      "metadata": {},
      "outputs": [],
      "source": [
        "columns_dropped = [\n",
        "    \"trans_date_trans_time\",\n",
        "    \"first\", \n",
        "    \"last\", \n",
        "    \"cc_num\",\n",
        "    \"gender\", \n",
        "    \"street\", \n",
        "    \"city\",\n",
        "    \"state\", \n",
        "    \"zip\", \n",
        "    \"lat\",\n",
        "    \"long\",\n",
        "    \"merch_lat\", \n",
        "    \"merch_long\", \n",
        "    \"city_pop\",\n",
        "    \"dob\",\n",
        "    \"unix_time\",\n",
        "    \"full_name\"\n",
        "]\n",
        "\n",
        "columns_check = [\n",
        "    \"merchant\", \n",
        "    \"category\", \n",
        "    \"job\"\n",
        "]\n",
        "\n",
        "columns_kept = [\n",
        "    \"merchant\", \n",
        "    \"category\", \n",
        "    \"amt\", \n",
        "    \"job\", \n",
        "    \"age\",\n",
        "]"
      ]
    },
    {
      "cell_type": "code",
      "execution_count": 428,
      "metadata": {},
      "outputs": [],
      "source": [
        "X_train = X_train.drop(columns_dropped, axis=1)\n",
        "\n"
      ]
    },
    {
      "cell_type": "code",
      "execution_count": 429,
      "metadata": {},
      "outputs": [
        {
          "data": {
            "text/html": [
              "<div>\n",
              "<style scoped>\n",
              "    .dataframe tbody tr th:only-of-type {\n",
              "        vertical-align: middle;\n",
              "    }\n",
              "\n",
              "    .dataframe tbody tr th {\n",
              "        vertical-align: top;\n",
              "    }\n",
              "\n",
              "    .dataframe thead th {\n",
              "        text-align: right;\n",
              "    }\n",
              "</style>\n",
              "<table border=\"1\" class=\"dataframe\">\n",
              "  <thead>\n",
              "    <tr style=\"text-align: right;\">\n",
              "      <th></th>\n",
              "      <th>merchant</th>\n",
              "      <th>category</th>\n",
              "      <th>amt</th>\n",
              "      <th>job</th>\n",
              "      <th>trans_id</th>\n",
              "      <th>age</th>\n",
              "    </tr>\n",
              "  </thead>\n",
              "  <tbody>\n",
              "    <tr>\n",
              "      <th>419112</th>\n",
              "      <td>fraud_Abernathy and Sons</td>\n",
              "      <td>food_dining</td>\n",
              "      <td>22.42</td>\n",
              "      <td>Lexicographer</td>\n",
              "      <td>4609d39437b5433fece4a3621aeb722d</td>\n",
              "      <td>34</td>\n",
              "    </tr>\n",
              "    <tr>\n",
              "      <th>693405</th>\n",
              "      <td>fraud_Schumm PLC</td>\n",
              "      <td>health_fitness</td>\n",
              "      <td>1.39</td>\n",
              "      <td>Research scientist (physical sciences)</td>\n",
              "      <td>f516020b74184d502d0992e6da8dcd5c</td>\n",
              "      <td>40</td>\n",
              "    </tr>\n",
              "    <tr>\n",
              "      <th>1271246</th>\n",
              "      <td>fraud_Ferry, Reichel and DuBuque</td>\n",
              "      <td>grocery_net</td>\n",
              "      <td>14.04</td>\n",
              "      <td>Sales professional, IT</td>\n",
              "      <td>1ed6ed0e7b10198994356dc3f5ebfbf7</td>\n",
              "      <td>27</td>\n",
              "    </tr>\n",
              "    <tr>\n",
              "      <th>333183</th>\n",
              "      <td>fraud_Altenwerth-Kilback</td>\n",
              "      <td>home</td>\n",
              "      <td>20.87</td>\n",
              "      <td>Analytical chemist</td>\n",
              "      <td>f1836ba87430d0c5373fe23bf8e9996d</td>\n",
              "      <td>57</td>\n",
              "    </tr>\n",
              "    <tr>\n",
              "      <th>1063308</th>\n",
              "      <td>fraud_Schoen, Kuphal and Nitzsche</td>\n",
              "      <td>grocery_pos</td>\n",
              "      <td>69.59</td>\n",
              "      <td>Firefighter</td>\n",
              "      <td>ec1715b32bb60c5a6fff347d9dcc810e</td>\n",
              "      <td>51</td>\n",
              "    </tr>\n",
              "    <tr>\n",
              "      <th>686327</th>\n",
              "      <td>fraud_Kozey-Boehm</td>\n",
              "      <td>shopping_net</td>\n",
              "      <td>80.29</td>\n",
              "      <td>Development worker, community</td>\n",
              "      <td>23d8157339e40a8ee10000d42cf6a184</td>\n",
              "      <td>35</td>\n",
              "    </tr>\n",
              "    <tr>\n",
              "      <th>1267750</th>\n",
              "      <td>fraud_Connelly-Carter</td>\n",
              "      <td>home</td>\n",
              "      <td>44.78</td>\n",
              "      <td>Diagnostic radiographer</td>\n",
              "      <td>bf8682a0df8342a222eec29c1c82ecb5</td>\n",
              "      <td>56</td>\n",
              "    </tr>\n",
              "    <tr>\n",
              "      <th>955001</th>\n",
              "      <td>fraud_Reichel LLC</td>\n",
              "      <td>personal_care</td>\n",
              "      <td>35.21</td>\n",
              "      <td>Chief Executive Officer</td>\n",
              "      <td>6271f547eb5730ecb0100568a60647c9</td>\n",
              "      <td>46</td>\n",
              "    </tr>\n",
              "    <tr>\n",
              "      <th>1248511</th>\n",
              "      <td>fraud_Kassulke Inc</td>\n",
              "      <td>entertainment</td>\n",
              "      <td>264.38</td>\n",
              "      <td>Clothing/textile technologist</td>\n",
              "      <td>51ea4645e0a96d8bdaaba4b0eb99b13c</td>\n",
              "      <td>45</td>\n",
              "    </tr>\n",
              "    <tr>\n",
              "      <th>933042</th>\n",
              "      <td>fraud_Monahan, Bogisich and Ledner</td>\n",
              "      <td>misc_pos</td>\n",
              "      <td>52.74</td>\n",
              "      <td>Neurosurgeon</td>\n",
              "      <td>59f25514ce6d14133de7afcedc7792be</td>\n",
              "      <td>52</td>\n",
              "    </tr>\n",
              "  </tbody>\n",
              "</table>\n",
              "</div>"
            ],
            "text/plain": [
              "                                   merchant        category     amt  \\\n",
              "419112             fraud_Abernathy and Sons     food_dining   22.42   \n",
              "693405                     fraud_Schumm PLC  health_fitness    1.39   \n",
              "1271246    fraud_Ferry, Reichel and DuBuque     grocery_net   14.04   \n",
              "333183             fraud_Altenwerth-Kilback            home   20.87   \n",
              "1063308   fraud_Schoen, Kuphal and Nitzsche     grocery_pos   69.59   \n",
              "686327                    fraud_Kozey-Boehm    shopping_net   80.29   \n",
              "1267750               fraud_Connelly-Carter            home   44.78   \n",
              "955001                    fraud_Reichel LLC   personal_care   35.21   \n",
              "1248511                  fraud_Kassulke Inc   entertainment  264.38   \n",
              "933042   fraud_Monahan, Bogisich and Ledner        misc_pos   52.74   \n",
              "\n",
              "                                            job  \\\n",
              "419112                            Lexicographer   \n",
              "693405   Research scientist (physical sciences)   \n",
              "1271246                  Sales professional, IT   \n",
              "333183                       Analytical chemist   \n",
              "1063308                             Firefighter   \n",
              "686327            Development worker, community   \n",
              "1267750                 Diagnostic radiographer   \n",
              "955001                  Chief Executive Officer   \n",
              "1248511           Clothing/textile technologist   \n",
              "933042                             Neurosurgeon   \n",
              "\n",
              "                                 trans_id  age  \n",
              "419112   4609d39437b5433fece4a3621aeb722d   34  \n",
              "693405   f516020b74184d502d0992e6da8dcd5c   40  \n",
              "1271246  1ed6ed0e7b10198994356dc3f5ebfbf7   27  \n",
              "333183   f1836ba87430d0c5373fe23bf8e9996d   57  \n",
              "1063308  ec1715b32bb60c5a6fff347d9dcc810e   51  \n",
              "686327   23d8157339e40a8ee10000d42cf6a184   35  \n",
              "1267750  bf8682a0df8342a222eec29c1c82ecb5   56  \n",
              "955001   6271f547eb5730ecb0100568a60647c9   46  \n",
              "1248511  51ea4645e0a96d8bdaaba4b0eb99b13c   45  \n",
              "933042   59f25514ce6d14133de7afcedc7792be   52  "
            ]
          },
          "execution_count": 429,
          "metadata": {},
          "output_type": "execute_result"
        }
      ],
      "source": [
        "X_train.head(n=10)"
      ]
    },
    {
      "cell_type": "code",
      "execution_count": 430,
      "metadata": {},
      "outputs": [],
      "source": [
        "X_train = X_train.drop([\"trans_id\"], axis=1)"
      ]
    },
    {
      "cell_type": "code",
      "execution_count": 431,
      "metadata": {},
      "outputs": [
        {
          "data": {
            "text/html": [
              "<div>\n",
              "<style scoped>\n",
              "    .dataframe tbody tr th:only-of-type {\n",
              "        vertical-align: middle;\n",
              "    }\n",
              "\n",
              "    .dataframe tbody tr th {\n",
              "        vertical-align: top;\n",
              "    }\n",
              "\n",
              "    .dataframe thead th {\n",
              "        text-align: right;\n",
              "    }\n",
              "</style>\n",
              "<table border=\"1\" class=\"dataframe\">\n",
              "  <thead>\n",
              "    <tr style=\"text-align: right;\">\n",
              "      <th></th>\n",
              "      <th>merchant</th>\n",
              "      <th>category</th>\n",
              "      <th>amt</th>\n",
              "      <th>job</th>\n",
              "      <th>age</th>\n",
              "    </tr>\n",
              "  </thead>\n",
              "  <tbody>\n",
              "    <tr>\n",
              "      <th>419112</th>\n",
              "      <td>fraud_Abernathy and Sons</td>\n",
              "      <td>food_dining</td>\n",
              "      <td>22.42</td>\n",
              "      <td>Lexicographer</td>\n",
              "      <td>34</td>\n",
              "    </tr>\n",
              "    <tr>\n",
              "      <th>693405</th>\n",
              "      <td>fraud_Schumm PLC</td>\n",
              "      <td>health_fitness</td>\n",
              "      <td>1.39</td>\n",
              "      <td>Research scientist (physical sciences)</td>\n",
              "      <td>40</td>\n",
              "    </tr>\n",
              "    <tr>\n",
              "      <th>1271246</th>\n",
              "      <td>fraud_Ferry, Reichel and DuBuque</td>\n",
              "      <td>grocery_net</td>\n",
              "      <td>14.04</td>\n",
              "      <td>Sales professional, IT</td>\n",
              "      <td>27</td>\n",
              "    </tr>\n",
              "    <tr>\n",
              "      <th>333183</th>\n",
              "      <td>fraud_Altenwerth-Kilback</td>\n",
              "      <td>home</td>\n",
              "      <td>20.87</td>\n",
              "      <td>Analytical chemist</td>\n",
              "      <td>57</td>\n",
              "    </tr>\n",
              "    <tr>\n",
              "      <th>1063308</th>\n",
              "      <td>fraud_Schoen, Kuphal and Nitzsche</td>\n",
              "      <td>grocery_pos</td>\n",
              "      <td>69.59</td>\n",
              "      <td>Firefighter</td>\n",
              "      <td>51</td>\n",
              "    </tr>\n",
              "    <tr>\n",
              "      <th>686327</th>\n",
              "      <td>fraud_Kozey-Boehm</td>\n",
              "      <td>shopping_net</td>\n",
              "      <td>80.29</td>\n",
              "      <td>Development worker, community</td>\n",
              "      <td>35</td>\n",
              "    </tr>\n",
              "    <tr>\n",
              "      <th>1267750</th>\n",
              "      <td>fraud_Connelly-Carter</td>\n",
              "      <td>home</td>\n",
              "      <td>44.78</td>\n",
              "      <td>Diagnostic radiographer</td>\n",
              "      <td>56</td>\n",
              "    </tr>\n",
              "    <tr>\n",
              "      <th>955001</th>\n",
              "      <td>fraud_Reichel LLC</td>\n",
              "      <td>personal_care</td>\n",
              "      <td>35.21</td>\n",
              "      <td>Chief Executive Officer</td>\n",
              "      <td>46</td>\n",
              "    </tr>\n",
              "    <tr>\n",
              "      <th>1248511</th>\n",
              "      <td>fraud_Kassulke Inc</td>\n",
              "      <td>entertainment</td>\n",
              "      <td>264.38</td>\n",
              "      <td>Clothing/textile technologist</td>\n",
              "      <td>45</td>\n",
              "    </tr>\n",
              "    <tr>\n",
              "      <th>933042</th>\n",
              "      <td>fraud_Monahan, Bogisich and Ledner</td>\n",
              "      <td>misc_pos</td>\n",
              "      <td>52.74</td>\n",
              "      <td>Neurosurgeon</td>\n",
              "      <td>52</td>\n",
              "    </tr>\n",
              "    <tr>\n",
              "      <th>520792</th>\n",
              "      <td>fraud_Sporer-Keebler</td>\n",
              "      <td>personal_care</td>\n",
              "      <td>61.52</td>\n",
              "      <td>Chartered public finance accountant</td>\n",
              "      <td>25</td>\n",
              "    </tr>\n",
              "    <tr>\n",
              "      <th>742753</th>\n",
              "      <td>fraud_Douglas-White</td>\n",
              "      <td>entertainment</td>\n",
              "      <td>76.43</td>\n",
              "      <td>Manufacturing engineer</td>\n",
              "      <td>31</td>\n",
              "    </tr>\n",
              "    <tr>\n",
              "      <th>120638</th>\n",
              "      <td>fraud_Turner, Ruecker and Parisian</td>\n",
              "      <td>misc_pos</td>\n",
              "      <td>1.10</td>\n",
              "      <td>Insurance underwriter</td>\n",
              "      <td>97</td>\n",
              "    </tr>\n",
              "    <tr>\n",
              "      <th>468904</th>\n",
              "      <td>fraud_Heaney-Marquardt</td>\n",
              "      <td>entertainment</td>\n",
              "      <td>93.19</td>\n",
              "      <td>Buyer, industrial</td>\n",
              "      <td>66</td>\n",
              "    </tr>\n",
              "    <tr>\n",
              "      <th>553897</th>\n",
              "      <td>fraud_Roob, Conn and Tremblay</td>\n",
              "      <td>shopping_pos</td>\n",
              "      <td>3.15</td>\n",
              "      <td>Surveyor, rural practice</td>\n",
              "      <td>47</td>\n",
              "    </tr>\n",
              "    <tr>\n",
              "      <th>38862</th>\n",
              "      <td>fraud_Hamill-D'Amore</td>\n",
              "      <td>health_fitness</td>\n",
              "      <td>39.31</td>\n",
              "      <td>Scientist, physiological</td>\n",
              "      <td>60</td>\n",
              "    </tr>\n",
              "    <tr>\n",
              "      <th>642353</th>\n",
              "      <td>fraud_Shields Inc</td>\n",
              "      <td>grocery_net</td>\n",
              "      <td>40.00</td>\n",
              "      <td>Engineering geologist</td>\n",
              "      <td>53</td>\n",
              "    </tr>\n",
              "    <tr>\n",
              "      <th>1123947</th>\n",
              "      <td>fraud_Strosin-Cruickshank</td>\n",
              "      <td>grocery_pos</td>\n",
              "      <td>94.94</td>\n",
              "      <td>Investment banker, corporate</td>\n",
              "      <td>74</td>\n",
              "    </tr>\n",
              "    <tr>\n",
              "      <th>1295736</th>\n",
              "      <td>fraud_Spencer-Runolfsson</td>\n",
              "      <td>misc_pos</td>\n",
              "      <td>153.75</td>\n",
              "      <td>Secondary school teacher</td>\n",
              "      <td>88</td>\n",
              "    </tr>\n",
              "    <tr>\n",
              "      <th>385706</th>\n",
              "      <td>fraud_Dietrich-Fadel</td>\n",
              "      <td>health_fitness</td>\n",
              "      <td>24.20</td>\n",
              "      <td>Rural practice surveyor</td>\n",
              "      <td>21</td>\n",
              "    </tr>\n",
              "  </tbody>\n",
              "</table>\n",
              "</div>"
            ],
            "text/plain": [
              "                                   merchant        category     amt  \\\n",
              "419112             fraud_Abernathy and Sons     food_dining   22.42   \n",
              "693405                     fraud_Schumm PLC  health_fitness    1.39   \n",
              "1271246    fraud_Ferry, Reichel and DuBuque     grocery_net   14.04   \n",
              "333183             fraud_Altenwerth-Kilback            home   20.87   \n",
              "1063308   fraud_Schoen, Kuphal and Nitzsche     grocery_pos   69.59   \n",
              "686327                    fraud_Kozey-Boehm    shopping_net   80.29   \n",
              "1267750               fraud_Connelly-Carter            home   44.78   \n",
              "955001                    fraud_Reichel LLC   personal_care   35.21   \n",
              "1248511                  fraud_Kassulke Inc   entertainment  264.38   \n",
              "933042   fraud_Monahan, Bogisich and Ledner        misc_pos   52.74   \n",
              "520792                 fraud_Sporer-Keebler   personal_care   61.52   \n",
              "742753                  fraud_Douglas-White   entertainment   76.43   \n",
              "120638   fraud_Turner, Ruecker and Parisian        misc_pos    1.10   \n",
              "468904               fraud_Heaney-Marquardt   entertainment   93.19   \n",
              "553897        fraud_Roob, Conn and Tremblay    shopping_pos    3.15   \n",
              "38862                  fraud_Hamill-D'Amore  health_fitness   39.31   \n",
              "642353                    fraud_Shields Inc     grocery_net   40.00   \n",
              "1123947           fraud_Strosin-Cruickshank     grocery_pos   94.94   \n",
              "1295736            fraud_Spencer-Runolfsson        misc_pos  153.75   \n",
              "385706                 fraud_Dietrich-Fadel  health_fitness   24.20   \n",
              "\n",
              "                                            job  age  \n",
              "419112                            Lexicographer   34  \n",
              "693405   Research scientist (physical sciences)   40  \n",
              "1271246                  Sales professional, IT   27  \n",
              "333183                       Analytical chemist   57  \n",
              "1063308                             Firefighter   51  \n",
              "686327            Development worker, community   35  \n",
              "1267750                 Diagnostic radiographer   56  \n",
              "955001                  Chief Executive Officer   46  \n",
              "1248511           Clothing/textile technologist   45  \n",
              "933042                             Neurosurgeon   52  \n",
              "520792      Chartered public finance accountant   25  \n",
              "742753                   Manufacturing engineer   31  \n",
              "120638                    Insurance underwriter   97  \n",
              "468904                        Buyer, industrial   66  \n",
              "553897                 Surveyor, rural practice   47  \n",
              "38862                  Scientist, physiological   60  \n",
              "642353                    Engineering geologist   53  \n",
              "1123947            Investment banker, corporate   74  \n",
              "1295736                Secondary school teacher   88  \n",
              "385706                  Rural practice surveyor   21  "
            ]
          },
          "execution_count": 431,
          "metadata": {},
          "output_type": "execute_result"
        }
      ],
      "source": [
        "X_train.head(n=20)\n"
      ]
    },
    {
      "cell_type": "code",
      "execution_count": 432,
      "metadata": {},
      "outputs": [],
      "source": [
        "# put age into different categories\n",
        "age_bins = [0, 35, 65, float('inf')]\n",
        "age_labels = ['intermediate', 'top', 'retired']\n",
        "X_train['age_categories'] = pd.cut(X_train['age'], bins=age_bins, labels=age_labels, right=False)"
      ]
    },
    {
      "cell_type": "code",
      "execution_count": 433,
      "metadata": {},
      "outputs": [
        {
          "data": {
            "text/html": [
              "<div>\n",
              "<style scoped>\n",
              "    .dataframe tbody tr th:only-of-type {\n",
              "        vertical-align: middle;\n",
              "    }\n",
              "\n",
              "    .dataframe tbody tr th {\n",
              "        vertical-align: top;\n",
              "    }\n",
              "\n",
              "    .dataframe thead th {\n",
              "        text-align: right;\n",
              "    }\n",
              "</style>\n",
              "<table border=\"1\" class=\"dataframe\">\n",
              "  <thead>\n",
              "    <tr style=\"text-align: right;\">\n",
              "      <th></th>\n",
              "      <th>merchant</th>\n",
              "      <th>category</th>\n",
              "      <th>amt</th>\n",
              "      <th>job</th>\n",
              "      <th>age_categories</th>\n",
              "    </tr>\n",
              "  </thead>\n",
              "  <tbody>\n",
              "    <tr>\n",
              "      <th>419112</th>\n",
              "      <td>fraud_Abernathy and Sons</td>\n",
              "      <td>food_dining</td>\n",
              "      <td>22.42</td>\n",
              "      <td>Lexicographer</td>\n",
              "      <td>intermediate</td>\n",
              "    </tr>\n",
              "    <tr>\n",
              "      <th>693405</th>\n",
              "      <td>fraud_Schumm PLC</td>\n",
              "      <td>health_fitness</td>\n",
              "      <td>1.39</td>\n",
              "      <td>Research scientist (physical sciences)</td>\n",
              "      <td>top</td>\n",
              "    </tr>\n",
              "    <tr>\n",
              "      <th>1271246</th>\n",
              "      <td>fraud_Ferry, Reichel and DuBuque</td>\n",
              "      <td>grocery_net</td>\n",
              "      <td>14.04</td>\n",
              "      <td>Sales professional, IT</td>\n",
              "      <td>intermediate</td>\n",
              "    </tr>\n",
              "    <tr>\n",
              "      <th>333183</th>\n",
              "      <td>fraud_Altenwerth-Kilback</td>\n",
              "      <td>home</td>\n",
              "      <td>20.87</td>\n",
              "      <td>Analytical chemist</td>\n",
              "      <td>top</td>\n",
              "    </tr>\n",
              "    <tr>\n",
              "      <th>1063308</th>\n",
              "      <td>fraud_Schoen, Kuphal and Nitzsche</td>\n",
              "      <td>grocery_pos</td>\n",
              "      <td>69.59</td>\n",
              "      <td>Firefighter</td>\n",
              "      <td>top</td>\n",
              "    </tr>\n",
              "    <tr>\n",
              "      <th>...</th>\n",
              "      <td>...</td>\n",
              "      <td>...</td>\n",
              "      <td>...</td>\n",
              "      <td>...</td>\n",
              "      <td>...</td>\n",
              "    </tr>\n",
              "    <tr>\n",
              "      <th>639432</th>\n",
              "      <td>fraud_Greenfelder, Bartoletti and Davis</td>\n",
              "      <td>misc_net</td>\n",
              "      <td>4.04</td>\n",
              "      <td>Chief Strategy Officer</td>\n",
              "      <td>top</td>\n",
              "    </tr>\n",
              "    <tr>\n",
              "      <th>653672</th>\n",
              "      <td>fraud_Bogisich-Weimann</td>\n",
              "      <td>kids_pets</td>\n",
              "      <td>131.78</td>\n",
              "      <td>Podiatrist</td>\n",
              "      <td>top</td>\n",
              "    </tr>\n",
              "    <tr>\n",
              "      <th>120705</th>\n",
              "      <td>fraud_Kutch LLC</td>\n",
              "      <td>gas_transport</td>\n",
              "      <td>38.17</td>\n",
              "      <td>Press sub</td>\n",
              "      <td>top</td>\n",
              "    </tr>\n",
              "    <tr>\n",
              "      <th>991406</th>\n",
              "      <td>fraud_Harber Inc</td>\n",
              "      <td>gas_transport</td>\n",
              "      <td>86.70</td>\n",
              "      <td>Chief Strategy Officer</td>\n",
              "      <td>top</td>\n",
              "    </tr>\n",
              "    <tr>\n",
              "      <th>1000570</th>\n",
              "      <td>fraud_Denesik, Powlowski and Pouros</td>\n",
              "      <td>home</td>\n",
              "      <td>100.86</td>\n",
              "      <td>Therapist, occupational</td>\n",
              "      <td>retired</td>\n",
              "    </tr>\n",
              "  </tbody>\n",
              "</table>\n",
              "<p>1037340 rows × 5 columns</p>\n",
              "</div>"
            ],
            "text/plain": [
              "                                        merchant        category     amt  \\\n",
              "419112                  fraud_Abernathy and Sons     food_dining   22.42   \n",
              "693405                          fraud_Schumm PLC  health_fitness    1.39   \n",
              "1271246         fraud_Ferry, Reichel and DuBuque     grocery_net   14.04   \n",
              "333183                  fraud_Altenwerth-Kilback            home   20.87   \n",
              "1063308        fraud_Schoen, Kuphal and Nitzsche     grocery_pos   69.59   \n",
              "...                                          ...             ...     ...   \n",
              "639432   fraud_Greenfelder, Bartoletti and Davis        misc_net    4.04   \n",
              "653672                    fraud_Bogisich-Weimann       kids_pets  131.78   \n",
              "120705                           fraud_Kutch LLC   gas_transport   38.17   \n",
              "991406                          fraud_Harber Inc   gas_transport   86.70   \n",
              "1000570      fraud_Denesik, Powlowski and Pouros            home  100.86   \n",
              "\n",
              "                                            job age_categories  \n",
              "419112                            Lexicographer   intermediate  \n",
              "693405   Research scientist (physical sciences)            top  \n",
              "1271246                  Sales professional, IT   intermediate  \n",
              "333183                       Analytical chemist            top  \n",
              "1063308                             Firefighter            top  \n",
              "...                                         ...            ...  \n",
              "639432                   Chief Strategy Officer            top  \n",
              "653672                               Podiatrist            top  \n",
              "120705                                Press sub            top  \n",
              "991406                   Chief Strategy Officer            top  \n",
              "1000570                 Therapist, occupational        retired  \n",
              "\n",
              "[1037340 rows x 5 columns]"
            ]
          },
          "execution_count": 433,
          "metadata": {},
          "output_type": "execute_result"
        }
      ],
      "source": [
        "X_train = X_train.drop(['age'], axis=1)\n",
        "X_train"
      ]
    },
    {
      "cell_type": "code",
      "execution_count": 434,
      "metadata": {},
      "outputs": [
        {
          "name": "stdout",
          "output_type": "stream",
          "text": [
            "object\n",
            "object\n",
            "float64\n",
            "object\n",
            "category\n"
          ]
        }
      ],
      "source": [
        "# check data type\n",
        "for i in X_train:\n",
        "    if X_train[i].dtypes == \"object\":\n",
        "        X_train[i].astype('category')\n",
        "\n",
        "for i in X_train:\n",
        "    print(X_train[i].dtype)"
      ]
    },
    {
      "cell_type": "markdown",
      "metadata": {},
      "source": [
        "### Normalizing 'amt' feature using StandardScaler"
      ]
    },
    {
      "cell_type": "code",
      "execution_count": 435,
      "metadata": {},
      "outputs": [],
      "source": [
        "# normalize 'amt'\n",
        "from sklearn.preprocessing import StandardScaler\n",
        "amt_scaler = StandardScaler()\n",
        "amt_scaler = amt_scaler.fit(X_train[['amt']])\n",
        "\n",
        "X_train['normalized_amt'] = amt_scaler.transform(X_train[['amt']])\n",
        "X_train = X_train.drop(['amt'], axis=1)\n"
      ]
    },
    {
      "cell_type": "markdown",
      "metadata": {},
      "source": [
        "### One-Hot-Encoding of categorical features"
      ]
    },
    {
      "cell_type": "code",
      "execution_count": 439,
      "metadata": {},
      "outputs": [
        {
          "ename": "KeyError",
          "evalue": "\"None of [Index(['merchant'], dtype='object')] are in the [columns]\"",
          "output_type": "error",
          "traceback": [
            "\u001b[0;31m---------------------------------------------------------------------------\u001b[0m",
            "\u001b[0;31mKeyError\u001b[0m                                  Traceback (most recent call last)",
            "Cell \u001b[0;32mIn[439], line 4\u001b[0m\n\u001b[1;32m      1\u001b[0m \u001b[38;5;28;01mfrom\u001b[39;00m \u001b[38;5;21;01msklearn\u001b[39;00m\u001b[38;5;21;01m.\u001b[39;00m\u001b[38;5;21;01mpreprocessing\u001b[39;00m \u001b[38;5;28;01mimport\u001b[39;00m OneHotEncoder\n\u001b[1;32m      3\u001b[0m merch_enc \u001b[38;5;241m=\u001b[39m OneHotEncoder(handle_unknown\u001b[38;5;241m=\u001b[39m\u001b[38;5;124m\"\u001b[39m\u001b[38;5;124mignore\u001b[39m\u001b[38;5;124m\"\u001b[39m)\n\u001b[0;32m----> 4\u001b[0m merch_enc \u001b[38;5;241m=\u001b[39m merch_enc\u001b[38;5;241m.\u001b[39mfit(\u001b[43mX_train\u001b[49m\u001b[43m[\u001b[49m\u001b[43m[\u001b[49m\u001b[38;5;124;43m'\u001b[39;49m\u001b[38;5;124;43mmerchant\u001b[39;49m\u001b[38;5;124;43m'\u001b[39;49m\u001b[43m]\u001b[49m\u001b[43m]\u001b[49m)\n\u001b[1;32m      5\u001b[0m _ohe_array \u001b[38;5;241m=\u001b[39m merch_enc\u001b[38;5;241m.\u001b[39mtransform(X_train[[\u001b[38;5;124m'\u001b[39m\u001b[38;5;124mmerchant\u001b[39m\u001b[38;5;124m'\u001b[39m]])\n\u001b[1;32m      7\u001b[0m _ohe_names \u001b[38;5;241m=\u001b[39m merch_enc\u001b[38;5;241m.\u001b[39mget_feature_names_out()\n",
            "File \u001b[0;32m~/codingProjects/mmai/823_AI_Finance/venv/lib/python3.10/site-packages/pandas/core/frame.py:4096\u001b[0m, in \u001b[0;36mDataFrame.__getitem__\u001b[0;34m(self, key)\u001b[0m\n\u001b[1;32m   4094\u001b[0m     \u001b[38;5;28;01mif\u001b[39;00m is_iterator(key):\n\u001b[1;32m   4095\u001b[0m         key \u001b[38;5;241m=\u001b[39m \u001b[38;5;28mlist\u001b[39m(key)\n\u001b[0;32m-> 4096\u001b[0m     indexer \u001b[38;5;241m=\u001b[39m \u001b[38;5;28;43mself\u001b[39;49m\u001b[38;5;241;43m.\u001b[39;49m\u001b[43mcolumns\u001b[49m\u001b[38;5;241;43m.\u001b[39;49m\u001b[43m_get_indexer_strict\u001b[49m\u001b[43m(\u001b[49m\u001b[43mkey\u001b[49m\u001b[43m,\u001b[49m\u001b[43m \u001b[49m\u001b[38;5;124;43m\"\u001b[39;49m\u001b[38;5;124;43mcolumns\u001b[39;49m\u001b[38;5;124;43m\"\u001b[39;49m\u001b[43m)\u001b[49m[\u001b[38;5;241m1\u001b[39m]\n\u001b[1;32m   4098\u001b[0m \u001b[38;5;66;03m# take() does not accept boolean indexers\u001b[39;00m\n\u001b[1;32m   4099\u001b[0m \u001b[38;5;28;01mif\u001b[39;00m \u001b[38;5;28mgetattr\u001b[39m(indexer, \u001b[38;5;124m\"\u001b[39m\u001b[38;5;124mdtype\u001b[39m\u001b[38;5;124m\"\u001b[39m, \u001b[38;5;28;01mNone\u001b[39;00m) \u001b[38;5;241m==\u001b[39m \u001b[38;5;28mbool\u001b[39m:\n",
            "File \u001b[0;32m~/codingProjects/mmai/823_AI_Finance/venv/lib/python3.10/site-packages/pandas/core/indexes/base.py:6200\u001b[0m, in \u001b[0;36mIndex._get_indexer_strict\u001b[0;34m(self, key, axis_name)\u001b[0m\n\u001b[1;32m   6197\u001b[0m \u001b[38;5;28;01melse\u001b[39;00m:\n\u001b[1;32m   6198\u001b[0m     keyarr, indexer, new_indexer \u001b[38;5;241m=\u001b[39m \u001b[38;5;28mself\u001b[39m\u001b[38;5;241m.\u001b[39m_reindex_non_unique(keyarr)\n\u001b[0;32m-> 6200\u001b[0m \u001b[38;5;28;43mself\u001b[39;49m\u001b[38;5;241;43m.\u001b[39;49m\u001b[43m_raise_if_missing\u001b[49m\u001b[43m(\u001b[49m\u001b[43mkeyarr\u001b[49m\u001b[43m,\u001b[49m\u001b[43m \u001b[49m\u001b[43mindexer\u001b[49m\u001b[43m,\u001b[49m\u001b[43m \u001b[49m\u001b[43maxis_name\u001b[49m\u001b[43m)\u001b[49m\n\u001b[1;32m   6202\u001b[0m keyarr \u001b[38;5;241m=\u001b[39m \u001b[38;5;28mself\u001b[39m\u001b[38;5;241m.\u001b[39mtake(indexer)\n\u001b[1;32m   6203\u001b[0m \u001b[38;5;28;01mif\u001b[39;00m \u001b[38;5;28misinstance\u001b[39m(key, Index):\n\u001b[1;32m   6204\u001b[0m     \u001b[38;5;66;03m# GH 42790 - Preserve name from an Index\u001b[39;00m\n",
            "File \u001b[0;32m~/codingProjects/mmai/823_AI_Finance/venv/lib/python3.10/site-packages/pandas/core/indexes/base.py:6249\u001b[0m, in \u001b[0;36mIndex._raise_if_missing\u001b[0;34m(self, key, indexer, axis_name)\u001b[0m\n\u001b[1;32m   6247\u001b[0m \u001b[38;5;28;01mif\u001b[39;00m nmissing:\n\u001b[1;32m   6248\u001b[0m     \u001b[38;5;28;01mif\u001b[39;00m nmissing \u001b[38;5;241m==\u001b[39m \u001b[38;5;28mlen\u001b[39m(indexer):\n\u001b[0;32m-> 6249\u001b[0m         \u001b[38;5;28;01mraise\u001b[39;00m \u001b[38;5;167;01mKeyError\u001b[39;00m(\u001b[38;5;124mf\u001b[39m\u001b[38;5;124m\"\u001b[39m\u001b[38;5;124mNone of [\u001b[39m\u001b[38;5;132;01m{\u001b[39;00mkey\u001b[38;5;132;01m}\u001b[39;00m\u001b[38;5;124m] are in the [\u001b[39m\u001b[38;5;132;01m{\u001b[39;00maxis_name\u001b[38;5;132;01m}\u001b[39;00m\u001b[38;5;124m]\u001b[39m\u001b[38;5;124m\"\u001b[39m)\n\u001b[1;32m   6251\u001b[0m     not_found \u001b[38;5;241m=\u001b[39m \u001b[38;5;28mlist\u001b[39m(ensure_index(key)[missing_mask\u001b[38;5;241m.\u001b[39mnonzero()[\u001b[38;5;241m0\u001b[39m]]\u001b[38;5;241m.\u001b[39munique())\n\u001b[1;32m   6252\u001b[0m     \u001b[38;5;28;01mraise\u001b[39;00m \u001b[38;5;167;01mKeyError\u001b[39;00m(\u001b[38;5;124mf\u001b[39m\u001b[38;5;124m\"\u001b[39m\u001b[38;5;132;01m{\u001b[39;00mnot_found\u001b[38;5;132;01m}\u001b[39;00m\u001b[38;5;124m not in index\u001b[39m\u001b[38;5;124m\"\u001b[39m)\n",
            "\u001b[0;31mKeyError\u001b[0m: \"None of [Index(['merchant'], dtype='object')] are in the [columns]\""
          ]
        }
      ],
      "source": [
        "from sklearn.preprocessing import OneHotEncoder\n",
        "\n",
        "merch_enc = OneHotEncoder(handle_unknown=\"ignore\")\n",
        "merch_enc = merch_enc.fit(X_train[['merchant']])\n",
        "_ohe_array = merch_enc.transform(X_train[['merchant']])\n",
        "\n",
        "_ohe_names = merch_enc.get_feature_names_out()\n",
        "\n",
        "for i in range(_ohe_array.shape[1]):\n",
        "  col_data = _ohe_array[:, i]\n",
        "  X_train[_ohe_names[i]] = col_data.toarray().ravel()\n",
        "X_train = X_train.drop(['merchant'], axis=1)\n",
        "\n",
        "\n",
        "catego_enc = OneHotEncoder(handle_unknown='ignore')\n",
        "catego_enc = catego_enc.fit(X_train[['category']])\n",
        "_ohe_array = catego_enc.transform(X_train[['category']])\n",
        "\n",
        "_ohe_names = catego_enc.get_feature_names_out()\n",
        "for i in range(_ohe_array.shape[1]):\n",
        "  X_train[_ohe_names[i]] = _ohe_array[:,i].toarray().ravel()\n",
        "X_train = X_train.drop(['category'], axis=1)\n",
        "\n",
        "\n",
        "job_enc = OneHotEncoder(handle_unknown='ignore')\n",
        "job_enc = job_enc.fit(X_train[['job']])\n",
        "_ohe_array = job_enc.transform(X_train[['job']])\n",
        "\n",
        "_ohe_names = job_enc.get_feature_names_out()\n",
        "for i in range(_ohe_array.shape[1]):\n",
        "  X_train[_ohe_names[i]] = _ohe_array[:,i].toarray().ravel()\n",
        "X_train = X_train.drop(['job'], axis=1)\n",
        "\n",
        "age_enc = OneHotEncoder(handle_unknown='ignore')\n",
        "age_enc = age_enc.fit(X_train[['age_categories']])\n",
        "_ohe_array = age_enc.transform(X_train[['age_categories']])\n",
        "\n",
        "_ohe_names = age_enc.get_feature_names_out()\n",
        "for i in range(_ohe_array.shape[1]):\n",
        "  X_train[_ohe_names[i]] = _ohe_array[:,i].toarray().ravel()\n",
        "X_train = X_train.drop(['age_categories'], axis=1)\n",
        "\n",
        "X_train"
      ]
    },
    {
      "cell_type": "markdown",
      "metadata": {},
      "source": [
        "### Oversampling using SMOTE"
      ]
    },
    {
      "cell_type": "code",
      "execution_count": 437,
      "metadata": {},
      "outputs": [],
      "source": [
        "from imblearn.over_sampling import SMOTE, ADASYN\n",
        "\n",
        "X_smote, Y_smote = SMOTE().fit_resample(X_train, y_train)"
      ]
    },
    {
      "cell_type": "code",
      "execution_count": 441,
      "metadata": {},
      "outputs": [
        {
          "data": {
            "text/html": [
              "<style>#sk-container-id-1 {\n",
              "  /* Definition of color scheme common for light and dark mode */\n",
              "  --sklearn-color-text: black;\n",
              "  --sklearn-color-line: gray;\n",
              "  /* Definition of color scheme for unfitted estimators */\n",
              "  --sklearn-color-unfitted-level-0: #fff5e6;\n",
              "  --sklearn-color-unfitted-level-1: #f6e4d2;\n",
              "  --sklearn-color-unfitted-level-2: #ffe0b3;\n",
              "  --sklearn-color-unfitted-level-3: chocolate;\n",
              "  /* Definition of color scheme for fitted estimators */\n",
              "  --sklearn-color-fitted-level-0: #f0f8ff;\n",
              "  --sklearn-color-fitted-level-1: #d4ebff;\n",
              "  --sklearn-color-fitted-level-2: #b3dbfd;\n",
              "  --sklearn-color-fitted-level-3: cornflowerblue;\n",
              "\n",
              "  /* Specific color for light theme */\n",
              "  --sklearn-color-text-on-default-background: var(--sg-text-color, var(--theme-code-foreground, var(--jp-content-font-color1, black)));\n",
              "  --sklearn-color-background: var(--sg-background-color, var(--theme-background, var(--jp-layout-color0, white)));\n",
              "  --sklearn-color-border-box: var(--sg-text-color, var(--theme-code-foreground, var(--jp-content-font-color1, black)));\n",
              "  --sklearn-color-icon: #696969;\n",
              "\n",
              "  @media (prefers-color-scheme: dark) {\n",
              "    /* Redefinition of color scheme for dark theme */\n",
              "    --sklearn-color-text-on-default-background: var(--sg-text-color, var(--theme-code-foreground, var(--jp-content-font-color1, white)));\n",
              "    --sklearn-color-background: var(--sg-background-color, var(--theme-background, var(--jp-layout-color0, #111)));\n",
              "    --sklearn-color-border-box: var(--sg-text-color, var(--theme-code-foreground, var(--jp-content-font-color1, white)));\n",
              "    --sklearn-color-icon: #878787;\n",
              "  }\n",
              "}\n",
              "\n",
              "#sk-container-id-1 {\n",
              "  color: var(--sklearn-color-text);\n",
              "}\n",
              "\n",
              "#sk-container-id-1 pre {\n",
              "  padding: 0;\n",
              "}\n",
              "\n",
              "#sk-container-id-1 input.sk-hidden--visually {\n",
              "  border: 0;\n",
              "  clip: rect(1px 1px 1px 1px);\n",
              "  clip: rect(1px, 1px, 1px, 1px);\n",
              "  height: 1px;\n",
              "  margin: -1px;\n",
              "  overflow: hidden;\n",
              "  padding: 0;\n",
              "  position: absolute;\n",
              "  width: 1px;\n",
              "}\n",
              "\n",
              "#sk-container-id-1 div.sk-dashed-wrapped {\n",
              "  border: 1px dashed var(--sklearn-color-line);\n",
              "  margin: 0 0.4em 0.5em 0.4em;\n",
              "  box-sizing: border-box;\n",
              "  padding-bottom: 0.4em;\n",
              "  background-color: var(--sklearn-color-background);\n",
              "}\n",
              "\n",
              "#sk-container-id-1 div.sk-container {\n",
              "  /* jupyter's `normalize.less` sets `[hidden] { display: none; }`\n",
              "     but bootstrap.min.css set `[hidden] { display: none !important; }`\n",
              "     so we also need the `!important` here to be able to override the\n",
              "     default hidden behavior on the sphinx rendered scikit-learn.org.\n",
              "     See: https://github.com/scikit-learn/scikit-learn/issues/21755 */\n",
              "  display: inline-block !important;\n",
              "  position: relative;\n",
              "}\n",
              "\n",
              "#sk-container-id-1 div.sk-text-repr-fallback {\n",
              "  display: none;\n",
              "}\n",
              "\n",
              "div.sk-parallel-item,\n",
              "div.sk-serial,\n",
              "div.sk-item {\n",
              "  /* draw centered vertical line to link estimators */\n",
              "  background-image: linear-gradient(var(--sklearn-color-text-on-default-background), var(--sklearn-color-text-on-default-background));\n",
              "  background-size: 2px 100%;\n",
              "  background-repeat: no-repeat;\n",
              "  background-position: center center;\n",
              "}\n",
              "\n",
              "/* Parallel-specific style estimator block */\n",
              "\n",
              "#sk-container-id-1 div.sk-parallel-item::after {\n",
              "  content: \"\";\n",
              "  width: 100%;\n",
              "  border-bottom: 2px solid var(--sklearn-color-text-on-default-background);\n",
              "  flex-grow: 1;\n",
              "}\n",
              "\n",
              "#sk-container-id-1 div.sk-parallel {\n",
              "  display: flex;\n",
              "  align-items: stretch;\n",
              "  justify-content: center;\n",
              "  background-color: var(--sklearn-color-background);\n",
              "  position: relative;\n",
              "}\n",
              "\n",
              "#sk-container-id-1 div.sk-parallel-item {\n",
              "  display: flex;\n",
              "  flex-direction: column;\n",
              "}\n",
              "\n",
              "#sk-container-id-1 div.sk-parallel-item:first-child::after {\n",
              "  align-self: flex-end;\n",
              "  width: 50%;\n",
              "}\n",
              "\n",
              "#sk-container-id-1 div.sk-parallel-item:last-child::after {\n",
              "  align-self: flex-start;\n",
              "  width: 50%;\n",
              "}\n",
              "\n",
              "#sk-container-id-1 div.sk-parallel-item:only-child::after {\n",
              "  width: 0;\n",
              "}\n",
              "\n",
              "/* Serial-specific style estimator block */\n",
              "\n",
              "#sk-container-id-1 div.sk-serial {\n",
              "  display: flex;\n",
              "  flex-direction: column;\n",
              "  align-items: center;\n",
              "  background-color: var(--sklearn-color-background);\n",
              "  padding-right: 1em;\n",
              "  padding-left: 1em;\n",
              "}\n",
              "\n",
              "\n",
              "/* Toggleable style: style used for estimator/Pipeline/ColumnTransformer box that is\n",
              "clickable and can be expanded/collapsed.\n",
              "- Pipeline and ColumnTransformer use this feature and define the default style\n",
              "- Estimators will overwrite some part of the style using the `sk-estimator` class\n",
              "*/\n",
              "\n",
              "/* Pipeline and ColumnTransformer style (default) */\n",
              "\n",
              "#sk-container-id-1 div.sk-toggleable {\n",
              "  /* Default theme specific background. It is overwritten whether we have a\n",
              "  specific estimator or a Pipeline/ColumnTransformer */\n",
              "  background-color: var(--sklearn-color-background);\n",
              "}\n",
              "\n",
              "/* Toggleable label */\n",
              "#sk-container-id-1 label.sk-toggleable__label {\n",
              "  cursor: pointer;\n",
              "  display: block;\n",
              "  width: 100%;\n",
              "  margin-bottom: 0;\n",
              "  padding: 0.5em;\n",
              "  box-sizing: border-box;\n",
              "  text-align: center;\n",
              "}\n",
              "\n",
              "#sk-container-id-1 label.sk-toggleable__label-arrow:before {\n",
              "  /* Arrow on the left of the label */\n",
              "  content: \"▸\";\n",
              "  float: left;\n",
              "  margin-right: 0.25em;\n",
              "  color: var(--sklearn-color-icon);\n",
              "}\n",
              "\n",
              "#sk-container-id-1 label.sk-toggleable__label-arrow:hover:before {\n",
              "  color: var(--sklearn-color-text);\n",
              "}\n",
              "\n",
              "/* Toggleable content - dropdown */\n",
              "\n",
              "#sk-container-id-1 div.sk-toggleable__content {\n",
              "  max-height: 0;\n",
              "  max-width: 0;\n",
              "  overflow: hidden;\n",
              "  text-align: left;\n",
              "  /* unfitted */\n",
              "  background-color: var(--sklearn-color-unfitted-level-0);\n",
              "}\n",
              "\n",
              "#sk-container-id-1 div.sk-toggleable__content.fitted {\n",
              "  /* fitted */\n",
              "  background-color: var(--sklearn-color-fitted-level-0);\n",
              "}\n",
              "\n",
              "#sk-container-id-1 div.sk-toggleable__content pre {\n",
              "  margin: 0.2em;\n",
              "  border-radius: 0.25em;\n",
              "  color: var(--sklearn-color-text);\n",
              "  /* unfitted */\n",
              "  background-color: var(--sklearn-color-unfitted-level-0);\n",
              "}\n",
              "\n",
              "#sk-container-id-1 div.sk-toggleable__content.fitted pre {\n",
              "  /* unfitted */\n",
              "  background-color: var(--sklearn-color-fitted-level-0);\n",
              "}\n",
              "\n",
              "#sk-container-id-1 input.sk-toggleable__control:checked~div.sk-toggleable__content {\n",
              "  /* Expand drop-down */\n",
              "  max-height: 200px;\n",
              "  max-width: 100%;\n",
              "  overflow: auto;\n",
              "}\n",
              "\n",
              "#sk-container-id-1 input.sk-toggleable__control:checked~label.sk-toggleable__label-arrow:before {\n",
              "  content: \"▾\";\n",
              "}\n",
              "\n",
              "/* Pipeline/ColumnTransformer-specific style */\n",
              "\n",
              "#sk-container-id-1 div.sk-label input.sk-toggleable__control:checked~label.sk-toggleable__label {\n",
              "  color: var(--sklearn-color-text);\n",
              "  background-color: var(--sklearn-color-unfitted-level-2);\n",
              "}\n",
              "\n",
              "#sk-container-id-1 div.sk-label.fitted input.sk-toggleable__control:checked~label.sk-toggleable__label {\n",
              "  background-color: var(--sklearn-color-fitted-level-2);\n",
              "}\n",
              "\n",
              "/* Estimator-specific style */\n",
              "\n",
              "/* Colorize estimator box */\n",
              "#sk-container-id-1 div.sk-estimator input.sk-toggleable__control:checked~label.sk-toggleable__label {\n",
              "  /* unfitted */\n",
              "  background-color: var(--sklearn-color-unfitted-level-2);\n",
              "}\n",
              "\n",
              "#sk-container-id-1 div.sk-estimator.fitted input.sk-toggleable__control:checked~label.sk-toggleable__label {\n",
              "  /* fitted */\n",
              "  background-color: var(--sklearn-color-fitted-level-2);\n",
              "}\n",
              "\n",
              "#sk-container-id-1 div.sk-label label.sk-toggleable__label,\n",
              "#sk-container-id-1 div.sk-label label {\n",
              "  /* The background is the default theme color */\n",
              "  color: var(--sklearn-color-text-on-default-background);\n",
              "}\n",
              "\n",
              "/* On hover, darken the color of the background */\n",
              "#sk-container-id-1 div.sk-label:hover label.sk-toggleable__label {\n",
              "  color: var(--sklearn-color-text);\n",
              "  background-color: var(--sklearn-color-unfitted-level-2);\n",
              "}\n",
              "\n",
              "/* Label box, darken color on hover, fitted */\n",
              "#sk-container-id-1 div.sk-label.fitted:hover label.sk-toggleable__label.fitted {\n",
              "  color: var(--sklearn-color-text);\n",
              "  background-color: var(--sklearn-color-fitted-level-2);\n",
              "}\n",
              "\n",
              "/* Estimator label */\n",
              "\n",
              "#sk-container-id-1 div.sk-label label {\n",
              "  font-family: monospace;\n",
              "  font-weight: bold;\n",
              "  display: inline-block;\n",
              "  line-height: 1.2em;\n",
              "}\n",
              "\n",
              "#sk-container-id-1 div.sk-label-container {\n",
              "  text-align: center;\n",
              "}\n",
              "\n",
              "/* Estimator-specific */\n",
              "#sk-container-id-1 div.sk-estimator {\n",
              "  font-family: monospace;\n",
              "  border: 1px dotted var(--sklearn-color-border-box);\n",
              "  border-radius: 0.25em;\n",
              "  box-sizing: border-box;\n",
              "  margin-bottom: 0.5em;\n",
              "  /* unfitted */\n",
              "  background-color: var(--sklearn-color-unfitted-level-0);\n",
              "}\n",
              "\n",
              "#sk-container-id-1 div.sk-estimator.fitted {\n",
              "  /* fitted */\n",
              "  background-color: var(--sklearn-color-fitted-level-0);\n",
              "}\n",
              "\n",
              "/* on hover */\n",
              "#sk-container-id-1 div.sk-estimator:hover {\n",
              "  /* unfitted */\n",
              "  background-color: var(--sklearn-color-unfitted-level-2);\n",
              "}\n",
              "\n",
              "#sk-container-id-1 div.sk-estimator.fitted:hover {\n",
              "  /* fitted */\n",
              "  background-color: var(--sklearn-color-fitted-level-2);\n",
              "}\n",
              "\n",
              "/* Specification for estimator info (e.g. \"i\" and \"?\") */\n",
              "\n",
              "/* Common style for \"i\" and \"?\" */\n",
              "\n",
              ".sk-estimator-doc-link,\n",
              "a:link.sk-estimator-doc-link,\n",
              "a:visited.sk-estimator-doc-link {\n",
              "  float: right;\n",
              "  font-size: smaller;\n",
              "  line-height: 1em;\n",
              "  font-family: monospace;\n",
              "  background-color: var(--sklearn-color-background);\n",
              "  border-radius: 1em;\n",
              "  height: 1em;\n",
              "  width: 1em;\n",
              "  text-decoration: none !important;\n",
              "  margin-left: 1ex;\n",
              "  /* unfitted */\n",
              "  border: var(--sklearn-color-unfitted-level-1) 1pt solid;\n",
              "  color: var(--sklearn-color-unfitted-level-1);\n",
              "}\n",
              "\n",
              ".sk-estimator-doc-link.fitted,\n",
              "a:link.sk-estimator-doc-link.fitted,\n",
              "a:visited.sk-estimator-doc-link.fitted {\n",
              "  /* fitted */\n",
              "  border: var(--sklearn-color-fitted-level-1) 1pt solid;\n",
              "  color: var(--sklearn-color-fitted-level-1);\n",
              "}\n",
              "\n",
              "/* On hover */\n",
              "div.sk-estimator:hover .sk-estimator-doc-link:hover,\n",
              ".sk-estimator-doc-link:hover,\n",
              "div.sk-label-container:hover .sk-estimator-doc-link:hover,\n",
              ".sk-estimator-doc-link:hover {\n",
              "  /* unfitted */\n",
              "  background-color: var(--sklearn-color-unfitted-level-3);\n",
              "  color: var(--sklearn-color-background);\n",
              "  text-decoration: none;\n",
              "}\n",
              "\n",
              "div.sk-estimator.fitted:hover .sk-estimator-doc-link.fitted:hover,\n",
              ".sk-estimator-doc-link.fitted:hover,\n",
              "div.sk-label-container:hover .sk-estimator-doc-link.fitted:hover,\n",
              ".sk-estimator-doc-link.fitted:hover {\n",
              "  /* fitted */\n",
              "  background-color: var(--sklearn-color-fitted-level-3);\n",
              "  color: var(--sklearn-color-background);\n",
              "  text-decoration: none;\n",
              "}\n",
              "\n",
              "/* Span, style for the box shown on hovering the info icon */\n",
              ".sk-estimator-doc-link span {\n",
              "  display: none;\n",
              "  z-index: 9999;\n",
              "  position: relative;\n",
              "  font-weight: normal;\n",
              "  right: .2ex;\n",
              "  padding: .5ex;\n",
              "  margin: .5ex;\n",
              "  width: min-content;\n",
              "  min-width: 20ex;\n",
              "  max-width: 50ex;\n",
              "  color: var(--sklearn-color-text);\n",
              "  box-shadow: 2pt 2pt 4pt #999;\n",
              "  /* unfitted */\n",
              "  background: var(--sklearn-color-unfitted-level-0);\n",
              "  border: .5pt solid var(--sklearn-color-unfitted-level-3);\n",
              "}\n",
              "\n",
              ".sk-estimator-doc-link.fitted span {\n",
              "  /* fitted */\n",
              "  background: var(--sklearn-color-fitted-level-0);\n",
              "  border: var(--sklearn-color-fitted-level-3);\n",
              "}\n",
              "\n",
              ".sk-estimator-doc-link:hover span {\n",
              "  display: block;\n",
              "}\n",
              "\n",
              "/* \"?\"-specific style due to the `<a>` HTML tag */\n",
              "\n",
              "#sk-container-id-1 a.estimator_doc_link {\n",
              "  float: right;\n",
              "  font-size: 1rem;\n",
              "  line-height: 1em;\n",
              "  font-family: monospace;\n",
              "  background-color: var(--sklearn-color-background);\n",
              "  border-radius: 1rem;\n",
              "  height: 1rem;\n",
              "  width: 1rem;\n",
              "  text-decoration: none;\n",
              "  /* unfitted */\n",
              "  color: var(--sklearn-color-unfitted-level-1);\n",
              "  border: var(--sklearn-color-unfitted-level-1) 1pt solid;\n",
              "}\n",
              "\n",
              "#sk-container-id-1 a.estimator_doc_link.fitted {\n",
              "  /* fitted */\n",
              "  border: var(--sklearn-color-fitted-level-1) 1pt solid;\n",
              "  color: var(--sklearn-color-fitted-level-1);\n",
              "}\n",
              "\n",
              "/* On hover */\n",
              "#sk-container-id-1 a.estimator_doc_link:hover {\n",
              "  /* unfitted */\n",
              "  background-color: var(--sklearn-color-unfitted-level-3);\n",
              "  color: var(--sklearn-color-background);\n",
              "  text-decoration: none;\n",
              "}\n",
              "\n",
              "#sk-container-id-1 a.estimator_doc_link.fitted:hover {\n",
              "  /* fitted */\n",
              "  background-color: var(--sklearn-color-fitted-level-3);\n",
              "}\n",
              "</style><div id=\"sk-container-id-1\" class=\"sk-top-container\"><div class=\"sk-text-repr-fallback\"><pre>RandomForestClassifier(n_estimators=10, random_state=42)</pre><b>In a Jupyter environment, please rerun this cell to show the HTML representation or trust the notebook. <br />On GitHub, the HTML representation is unable to render, please try loading this page with nbviewer.org.</b></div><div class=\"sk-container\" hidden><div class=\"sk-item\"><div class=\"sk-estimator fitted sk-toggleable\"><input class=\"sk-toggleable__control sk-hidden--visually\" id=\"sk-estimator-id-1\" type=\"checkbox\" checked><label for=\"sk-estimator-id-1\" class=\"sk-toggleable__label fitted sk-toggleable__label-arrow fitted\">&nbsp;&nbsp;RandomForestClassifier<a class=\"sk-estimator-doc-link fitted\" rel=\"noreferrer\" target=\"_blank\" href=\"https://scikit-learn.org/1.4/modules/generated/sklearn.ensemble.RandomForestClassifier.html\">?<span>Documentation for RandomForestClassifier</span></a><span class=\"sk-estimator-doc-link fitted\">i<span>Fitted</span></span></label><div class=\"sk-toggleable__content fitted\"><pre>RandomForestClassifier(n_estimators=10, random_state=42)</pre></div> </div></div></div></div>"
            ],
            "text/plain": [
              "RandomForestClassifier(n_estimators=10, random_state=42)"
            ]
          },
          "execution_count": 441,
          "metadata": {},
          "output_type": "execute_result"
        }
      ],
      "source": [
        "from sklearn.ensemble import RandomForestClassifier\n",
        "model_RF = RandomForestClassifier(n_estimators = 10, random_state = 42)\n",
        "model_RF.fit(X_train, y_train)"
      ]
    }
  ],
  "metadata": {
    "colab": {
      "provenance": []
    },
    "kernelspec": {
      "display_name": "Python 3",
      "name": "python3"
    },
    "language_info": {
      "codemirror_mode": {
        "name": "ipython",
        "version": 3
      },
      "file_extension": ".py",
      "mimetype": "text/x-python",
      "name": "python",
      "nbconvert_exporter": "python",
      "pygments_lexer": "ipython3",
      "version": "3.10.7"
    }
  },
  "nbformat": 4,
  "nbformat_minor": 0
}
